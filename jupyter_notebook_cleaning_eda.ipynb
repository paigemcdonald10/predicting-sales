{
 "cells": [
  {
   "cell_type": "code",
   "execution_count": 1,
   "metadata": {},
   "outputs": [],
   "source": [
    "# import basic libraries\n",
    "import pandas as pd\n",
    "import numpy as np\n",
    "import matplotlib.pyplot as plt\n",
    "import seaborn as sns\n",
    "%matplotlib inline\n",
    "\n",
    "import warnings\n",
    "warnings.filterwarnings(\"ignore\")"
   ]
  },
  {
   "cell_type": "markdown",
   "metadata": {},
   "source": [
    "# Import/Explore Grocery Sales Data"
   ]
  },
  {
   "cell_type": "markdown",
   "metadata": {},
   "source": [
    "source: https://www.kaggle.com/c/favorita-grocery-sales-forecasting"
   ]
  },
  {
   "cell_type": "code",
   "execution_count": 2,
   "metadata": {},
   "outputs": [],
   "source": [
    "# import data\n",
    "items = pd.read_csv('/Users/paigemcdonald/Documents/GitHub_data/predicting-sales/data/items.csv') # item information\n",
    "stores = pd.read_csv('/Users/paigemcdonald/Documents/GitHub_data/predicting-sales/data/stores.csv') # store information\n",
    "train = pd.read_csv('/Users/paigemcdonald/Documents/GitHub_data/predicting-sales/data/train.csv', index_col = [0]) # transactions data\n",
    "holiday_events = pd.read_csv('/Users/paigemcdonald/Documents/GitHub_data/predicting-sales/data/holidays_events.csv') # holiday dates"
   ]
  },
  {
   "cell_type": "markdown",
   "metadata": {},
   "source": [
    "1) Inspect items data"
   ]
  },
  {
   "cell_type": "code",
   "execution_count": 3,
   "metadata": {},
   "outputs": [
    {
     "name": "stdout",
     "output_type": "stream",
     "text": [
      "Number of rows in items: 4100\n",
      "Number of columns in items: 4\n"
     ]
    }
   ],
   "source": [
    "# number of rows and columns in items\n",
    "print('Number of rows in items:',items.shape[0])\n",
    "print('Number of columns in items:',items.shape[1])"
   ]
  },
  {
   "cell_type": "code",
   "execution_count": 4,
   "metadata": {},
   "outputs": [
    {
     "data": {
      "text/html": [
       "<div>\n",
       "<style scoped>\n",
       "    .dataframe tbody tr th:only-of-type {\n",
       "        vertical-align: middle;\n",
       "    }\n",
       "\n",
       "    .dataframe tbody tr th {\n",
       "        vertical-align: top;\n",
       "    }\n",
       "\n",
       "    .dataframe thead th {\n",
       "        text-align: right;\n",
       "    }\n",
       "</style>\n",
       "<table border=\"1\" class=\"dataframe\">\n",
       "  <thead>\n",
       "    <tr style=\"text-align: right;\">\n",
       "      <th></th>\n",
       "      <th>item_nbr</th>\n",
       "      <th>family</th>\n",
       "      <th>class</th>\n",
       "      <th>perishable</th>\n",
       "    </tr>\n",
       "  </thead>\n",
       "  <tbody>\n",
       "    <tr>\n",
       "      <td>0</td>\n",
       "      <td>96995</td>\n",
       "      <td>GROCERY I</td>\n",
       "      <td>1093</td>\n",
       "      <td>0</td>\n",
       "    </tr>\n",
       "    <tr>\n",
       "      <td>1</td>\n",
       "      <td>99197</td>\n",
       "      <td>GROCERY I</td>\n",
       "      <td>1067</td>\n",
       "      <td>0</td>\n",
       "    </tr>\n",
       "    <tr>\n",
       "      <td>2</td>\n",
       "      <td>103501</td>\n",
       "      <td>CLEANING</td>\n",
       "      <td>3008</td>\n",
       "      <td>0</td>\n",
       "    </tr>\n",
       "    <tr>\n",
       "      <td>3</td>\n",
       "      <td>103520</td>\n",
       "      <td>GROCERY I</td>\n",
       "      <td>1028</td>\n",
       "      <td>0</td>\n",
       "    </tr>\n",
       "    <tr>\n",
       "      <td>4</td>\n",
       "      <td>103665</td>\n",
       "      <td>BREAD/BAKERY</td>\n",
       "      <td>2712</td>\n",
       "      <td>1</td>\n",
       "    </tr>\n",
       "  </tbody>\n",
       "</table>\n",
       "</div>"
      ],
      "text/plain": [
       "   item_nbr        family  class  perishable\n",
       "0     96995     GROCERY I   1093           0\n",
       "1     99197     GROCERY I   1067           0\n",
       "2    103501      CLEANING   3008           0\n",
       "3    103520     GROCERY I   1028           0\n",
       "4    103665  BREAD/BAKERY   2712           1"
      ]
     },
     "execution_count": 4,
     "metadata": {},
     "output_type": "execute_result"
    }
   ],
   "source": [
    "# first 5 rows of items\n",
    "items.head()"
   ]
  },
  {
   "cell_type": "code",
   "execution_count": 5,
   "metadata": {},
   "outputs": [
    {
     "name": "stdout",
     "output_type": "stream",
     "text": [
      "<class 'pandas.core.frame.DataFrame'>\n",
      "RangeIndex: 4100 entries, 0 to 4099\n",
      "Data columns (total 4 columns):\n",
      "item_nbr      4100 non-null int64\n",
      "family        4100 non-null object\n",
      "class         4100 non-null int64\n",
      "perishable    4100 non-null int64\n",
      "dtypes: int64(3), object(1)\n",
      "memory usage: 128.2+ KB\n"
     ]
    }
   ],
   "source": [
    "# data types in items\n",
    "items.info()"
   ]
  },
  {
   "cell_type": "code",
   "execution_count": 6,
   "metadata": {},
   "outputs": [
    {
     "name": "stdout",
     "output_type": "stream",
     "text": [
      "Number of unique item families: 33\n"
     ]
    }
   ],
   "source": [
    "# how many different item families are there?\n",
    "print('Number of unique item families:' ,items['family'].nunique())"
   ]
  },
  {
   "cell_type": "code",
   "execution_count": 7,
   "metadata": {},
   "outputs": [
    {
     "data": {
      "text/plain": [
       "array(['GROCERY I', 'CLEANING', 'BREAD/BAKERY', 'DELI', 'POULTRY', 'EGGS',\n",
       "       'PERSONAL CARE', 'LINGERIE', 'BEVERAGES', 'AUTOMOTIVE', 'DAIRY',\n",
       "       'GROCERY II', 'MEATS', 'FROZEN FOODS', 'HOME APPLIANCES',\n",
       "       'SEAFOOD', 'PREPARED FOODS', 'LIQUOR,WINE,BEER', 'BEAUTY',\n",
       "       'HARDWARE', 'LAWN AND GARDEN', 'PRODUCE', 'HOME AND KITCHEN II',\n",
       "       'HOME AND KITCHEN I', 'MAGAZINES', 'HOME CARE', 'PET SUPPLIES',\n",
       "       'BABY CARE', 'SCHOOL AND OFFICE SUPPLIES',\n",
       "       'PLAYERS AND ELECTRONICS', 'CELEBRATION', 'LADIESWEAR', 'BOOKS'],\n",
       "      dtype=object)"
      ]
     },
     "execution_count": 7,
     "metadata": {},
     "output_type": "execute_result"
    }
   ],
   "source": [
    "# what are the families called?\n",
    "items['family'].unique()"
   ]
  },
  {
   "cell_type": "code",
   "execution_count": 8,
   "metadata": {},
   "outputs": [
    {
     "data": {
      "text/plain": [
       "array(['BREAD/BAKERY', 'DELI', 'POULTRY', 'EGGS', 'DAIRY', 'MEATS',\n",
       "       'SEAFOOD', 'PREPARED FOODS', 'PRODUCE'], dtype=object)"
      ]
     },
     "execution_count": 8,
     "metadata": {},
     "output_type": "execute_result"
    }
   ],
   "source": [
    "# which families are perishable? - I will only focus on these products\n",
    "items[items['perishable'] == 1].family.unique()"
   ]
  },
  {
   "cell_type": "code",
   "execution_count": 9,
   "metadata": {},
   "outputs": [],
   "source": [
    "# which items are perishable? - use list to filter perishable items from transaction data\n",
    "items_perish = items[items['perishable'] == 1].item_nbr.unique()"
   ]
  },
  {
   "cell_type": "code",
   "execution_count": 10,
   "metadata": {},
   "outputs": [
    {
     "data": {
      "text/plain": [
       "family\n",
       "BREAD/BAKERY      134\n",
       "DAIRY             242\n",
       "DELI               91\n",
       "EGGS               41\n",
       "MEATS              84\n",
       "POULTRY            54\n",
       "PREPARED FOODS     26\n",
       "PRODUCE           306\n",
       "SEAFOOD             8\n",
       "Name: item_nbr, dtype: int64"
      ]
     },
     "execution_count": 10,
     "metadata": {},
     "output_type": "execute_result"
    }
   ],
   "source": [
    "# how many different items are in each perishable family?\n",
    "items[items['perishable'] == 1].groupby('family').item_nbr.count()"
   ]
  },
  {
   "cell_type": "code",
   "execution_count": 11,
   "metadata": {},
   "outputs": [],
   "source": [
    "# drop 'class' column because I do not need it for my analysis\n",
    "items.drop(columns = ['class'], inplace = True)"
   ]
  },
  {
   "cell_type": "code",
   "execution_count": 12,
   "metadata": {},
   "outputs": [
    {
     "data": {
      "text/plain": [
       "item_nbr      0.0\n",
       "family        0.0\n",
       "perishable    0.0\n",
       "dtype: float64"
      ]
     },
     "execution_count": 12,
     "metadata": {},
     "output_type": "execute_result"
    }
   ],
   "source": [
    "# check for missing values \n",
    "np.mean(items.isna(), axis = 0)"
   ]
  },
  {
   "cell_type": "markdown",
   "metadata": {},
   "source": [
    "2) Inspect stores data"
   ]
  },
  {
   "cell_type": "code",
   "execution_count": 13,
   "metadata": {},
   "outputs": [
    {
     "name": "stdout",
     "output_type": "stream",
     "text": [
      "Number of rows in stores: 54\n",
      "Number of columns in stores: 5\n"
     ]
    }
   ],
   "source": [
    "# number of rows and columns in stores\n",
    "print('Number of rows in stores:',stores.shape[0])\n",
    "print('Number of columns in stores:',stores.shape[1])"
   ]
  },
  {
   "cell_type": "code",
   "execution_count": 14,
   "metadata": {},
   "outputs": [
    {
     "data": {
      "text/html": [
       "<div>\n",
       "<style scoped>\n",
       "    .dataframe tbody tr th:only-of-type {\n",
       "        vertical-align: middle;\n",
       "    }\n",
       "\n",
       "    .dataframe tbody tr th {\n",
       "        vertical-align: top;\n",
       "    }\n",
       "\n",
       "    .dataframe thead th {\n",
       "        text-align: right;\n",
       "    }\n",
       "</style>\n",
       "<table border=\"1\" class=\"dataframe\">\n",
       "  <thead>\n",
       "    <tr style=\"text-align: right;\">\n",
       "      <th></th>\n",
       "      <th>store_nbr</th>\n",
       "      <th>city</th>\n",
       "      <th>state</th>\n",
       "      <th>type</th>\n",
       "      <th>cluster</th>\n",
       "    </tr>\n",
       "  </thead>\n",
       "  <tbody>\n",
       "    <tr>\n",
       "      <td>0</td>\n",
       "      <td>1</td>\n",
       "      <td>Quito</td>\n",
       "      <td>Pichincha</td>\n",
       "      <td>D</td>\n",
       "      <td>13</td>\n",
       "    </tr>\n",
       "    <tr>\n",
       "      <td>1</td>\n",
       "      <td>2</td>\n",
       "      <td>Quito</td>\n",
       "      <td>Pichincha</td>\n",
       "      <td>D</td>\n",
       "      <td>13</td>\n",
       "    </tr>\n",
       "    <tr>\n",
       "      <td>2</td>\n",
       "      <td>3</td>\n",
       "      <td>Quito</td>\n",
       "      <td>Pichincha</td>\n",
       "      <td>D</td>\n",
       "      <td>8</td>\n",
       "    </tr>\n",
       "    <tr>\n",
       "      <td>3</td>\n",
       "      <td>4</td>\n",
       "      <td>Quito</td>\n",
       "      <td>Pichincha</td>\n",
       "      <td>D</td>\n",
       "      <td>9</td>\n",
       "    </tr>\n",
       "    <tr>\n",
       "      <td>4</td>\n",
       "      <td>5</td>\n",
       "      <td>Santo Domingo</td>\n",
       "      <td>Santo Domingo de los Tsachilas</td>\n",
       "      <td>D</td>\n",
       "      <td>4</td>\n",
       "    </tr>\n",
       "  </tbody>\n",
       "</table>\n",
       "</div>"
      ],
      "text/plain": [
       "   store_nbr           city                           state type  cluster\n",
       "0          1          Quito                       Pichincha    D       13\n",
       "1          2          Quito                       Pichincha    D       13\n",
       "2          3          Quito                       Pichincha    D        8\n",
       "3          4          Quito                       Pichincha    D        9\n",
       "4          5  Santo Domingo  Santo Domingo de los Tsachilas    D        4"
      ]
     },
     "execution_count": 14,
     "metadata": {},
     "output_type": "execute_result"
    }
   ],
   "source": [
    "# first 5 rows of stores\n",
    "stores.head()"
   ]
  },
  {
   "cell_type": "code",
   "execution_count": 15,
   "metadata": {},
   "outputs": [
    {
     "name": "stdout",
     "output_type": "stream",
     "text": [
      "<class 'pandas.core.frame.DataFrame'>\n",
      "RangeIndex: 54 entries, 0 to 53\n",
      "Data columns (total 5 columns):\n",
      "store_nbr    54 non-null int64\n",
      "city         54 non-null object\n",
      "state        54 non-null object\n",
      "type         54 non-null object\n",
      "cluster      54 non-null int64\n",
      "dtypes: int64(2), object(3)\n",
      "memory usage: 2.2+ KB\n"
     ]
    }
   ],
   "source": [
    "# data types in stores\n",
    "stores.info()"
   ]
  },
  {
   "cell_type": "code",
   "execution_count": 16,
   "metadata": {},
   "outputs": [
    {
     "name": "stdout",
     "output_type": "stream",
     "text": [
      "Number of unique stores: 54\n"
     ]
    }
   ],
   "source": [
    "# number of unique stores\n",
    "print('Number of unique stores:',stores['store_nbr'].nunique())"
   ]
  },
  {
   "cell_type": "code",
   "execution_count": 17,
   "metadata": {
    "scrolled": true
   },
   "outputs": [
    {
     "data": {
      "text/html": [
       "<div>\n",
       "<style scoped>\n",
       "    .dataframe tbody tr th:only-of-type {\n",
       "        vertical-align: middle;\n",
       "    }\n",
       "\n",
       "    .dataframe tbody tr th {\n",
       "        vertical-align: top;\n",
       "    }\n",
       "\n",
       "    .dataframe thead th {\n",
       "        text-align: right;\n",
       "    }\n",
       "</style>\n",
       "<table border=\"1\" class=\"dataframe\">\n",
       "  <thead>\n",
       "    <tr style=\"text-align: right;\">\n",
       "      <th></th>\n",
       "      <th>city</th>\n",
       "      <th>state</th>\n",
       "      <th>count</th>\n",
       "    </tr>\n",
       "  </thead>\n",
       "  <tbody>\n",
       "    <tr>\n",
       "      <td>0</td>\n",
       "      <td>Ambato</td>\n",
       "      <td>Tungurahua</td>\n",
       "      <td>2</td>\n",
       "    </tr>\n",
       "    <tr>\n",
       "      <td>1</td>\n",
       "      <td>Babahoyo</td>\n",
       "      <td>Los Rios</td>\n",
       "      <td>1</td>\n",
       "    </tr>\n",
       "    <tr>\n",
       "      <td>2</td>\n",
       "      <td>Cayambe</td>\n",
       "      <td>Pichincha</td>\n",
       "      <td>1</td>\n",
       "    </tr>\n",
       "    <tr>\n",
       "      <td>3</td>\n",
       "      <td>Cuenca</td>\n",
       "      <td>Azuay</td>\n",
       "      <td>3</td>\n",
       "    </tr>\n",
       "    <tr>\n",
       "      <td>4</td>\n",
       "      <td>Daule</td>\n",
       "      <td>Guayas</td>\n",
       "      <td>1</td>\n",
       "    </tr>\n",
       "    <tr>\n",
       "      <td>5</td>\n",
       "      <td>El Carmen</td>\n",
       "      <td>Manabi</td>\n",
       "      <td>1</td>\n",
       "    </tr>\n",
       "    <tr>\n",
       "      <td>6</td>\n",
       "      <td>Esmeraldas</td>\n",
       "      <td>Esmeraldas</td>\n",
       "      <td>1</td>\n",
       "    </tr>\n",
       "    <tr>\n",
       "      <td>7</td>\n",
       "      <td>Guaranda</td>\n",
       "      <td>Bolivar</td>\n",
       "      <td>1</td>\n",
       "    </tr>\n",
       "    <tr>\n",
       "      <td>8</td>\n",
       "      <td>Guayaquil</td>\n",
       "      <td>Guayas</td>\n",
       "      <td>8</td>\n",
       "    </tr>\n",
       "    <tr>\n",
       "      <td>9</td>\n",
       "      <td>Ibarra</td>\n",
       "      <td>Imbabura</td>\n",
       "      <td>1</td>\n",
       "    </tr>\n",
       "    <tr>\n",
       "      <td>10</td>\n",
       "      <td>Latacunga</td>\n",
       "      <td>Cotopaxi</td>\n",
       "      <td>2</td>\n",
       "    </tr>\n",
       "    <tr>\n",
       "      <td>11</td>\n",
       "      <td>Libertad</td>\n",
       "      <td>Guayas</td>\n",
       "      <td>1</td>\n",
       "    </tr>\n",
       "    <tr>\n",
       "      <td>12</td>\n",
       "      <td>Loja</td>\n",
       "      <td>Loja</td>\n",
       "      <td>1</td>\n",
       "    </tr>\n",
       "    <tr>\n",
       "      <td>13</td>\n",
       "      <td>Machala</td>\n",
       "      <td>El Oro</td>\n",
       "      <td>2</td>\n",
       "    </tr>\n",
       "    <tr>\n",
       "      <td>14</td>\n",
       "      <td>Manta</td>\n",
       "      <td>Manabi</td>\n",
       "      <td>2</td>\n",
       "    </tr>\n",
       "    <tr>\n",
       "      <td>15</td>\n",
       "      <td>Playas</td>\n",
       "      <td>Guayas</td>\n",
       "      <td>1</td>\n",
       "    </tr>\n",
       "    <tr>\n",
       "      <td>16</td>\n",
       "      <td>Puyo</td>\n",
       "      <td>Pastaza</td>\n",
       "      <td>1</td>\n",
       "    </tr>\n",
       "    <tr>\n",
       "      <td>17</td>\n",
       "      <td>Quevedo</td>\n",
       "      <td>Los Rios</td>\n",
       "      <td>1</td>\n",
       "    </tr>\n",
       "    <tr>\n",
       "      <td>18</td>\n",
       "      <td>Quito</td>\n",
       "      <td>Pichincha</td>\n",
       "      <td>18</td>\n",
       "    </tr>\n",
       "    <tr>\n",
       "      <td>19</td>\n",
       "      <td>Riobamba</td>\n",
       "      <td>Chimborazo</td>\n",
       "      <td>1</td>\n",
       "    </tr>\n",
       "    <tr>\n",
       "      <td>20</td>\n",
       "      <td>Salinas</td>\n",
       "      <td>Santa Elena</td>\n",
       "      <td>1</td>\n",
       "    </tr>\n",
       "    <tr>\n",
       "      <td>21</td>\n",
       "      <td>Santo Domingo</td>\n",
       "      <td>Santo Domingo de los Tsachilas</td>\n",
       "      <td>3</td>\n",
       "    </tr>\n",
       "  </tbody>\n",
       "</table>\n",
       "</div>"
      ],
      "text/plain": [
       "             city                           state  count\n",
       "0          Ambato                      Tungurahua      2\n",
       "1        Babahoyo                        Los Rios      1\n",
       "2         Cayambe                       Pichincha      1\n",
       "3          Cuenca                           Azuay      3\n",
       "4           Daule                          Guayas      1\n",
       "5       El Carmen                          Manabi      1\n",
       "6      Esmeraldas                      Esmeraldas      1\n",
       "7        Guaranda                         Bolivar      1\n",
       "8       Guayaquil                          Guayas      8\n",
       "9          Ibarra                        Imbabura      1\n",
       "10      Latacunga                        Cotopaxi      2\n",
       "11       Libertad                          Guayas      1\n",
       "12           Loja                            Loja      1\n",
       "13        Machala                          El Oro      2\n",
       "14          Manta                          Manabi      2\n",
       "15         Playas                          Guayas      1\n",
       "16           Puyo                         Pastaza      1\n",
       "17        Quevedo                        Los Rios      1\n",
       "18          Quito                       Pichincha     18\n",
       "19       Riobamba                      Chimborazo      1\n",
       "20        Salinas                     Santa Elena      1\n",
       "21  Santo Domingo  Santo Domingo de los Tsachilas      3"
      ]
     },
     "execution_count": 17,
     "metadata": {},
     "output_type": "execute_result"
    }
   ],
   "source": [
    "# how many stores are in each city,state?\n",
    "stores.groupby(['city','state']).size().reset_index().rename(columns={0:'count'})"
   ]
  },
  {
   "cell_type": "code",
   "execution_count": 18,
   "metadata": {},
   "outputs": [],
   "source": [
    "# drop 'type' and 'cluster' columns because I do not need it for my analysis\n",
    "stores.drop(columns = ['type','cluster'], inplace = True)"
   ]
  },
  {
   "cell_type": "code",
   "execution_count": 19,
   "metadata": {},
   "outputs": [
    {
     "data": {
      "text/plain": [
       "store_nbr    0.0\n",
       "city         0.0\n",
       "state        0.0\n",
       "dtype: float64"
      ]
     },
     "execution_count": 19,
     "metadata": {},
     "output_type": "execute_result"
    }
   ],
   "source": [
    "# check for missing values \n",
    "np.mean(stores.isna(), axis = 0)"
   ]
  },
  {
   "cell_type": "markdown",
   "metadata": {},
   "source": [
    "3) Inspect train data"
   ]
  },
  {
   "cell_type": "code",
   "execution_count": 20,
   "metadata": {},
   "outputs": [
    {
     "name": "stdout",
     "output_type": "stream",
     "text": [
      "Number of rows in train: 125497040\n",
      "Number of columns in train: 5\n"
     ]
    }
   ],
   "source": [
    "# Number of rows and columns in train\n",
    "print('Number of rows in train:',train.shape[0])\n",
    "print('Number of columns in train:',train.shape[1])"
   ]
  },
  {
   "cell_type": "code",
   "execution_count": 21,
   "metadata": {},
   "outputs": [
    {
     "data": {
      "text/html": [
       "<div>\n",
       "<style scoped>\n",
       "    .dataframe tbody tr th:only-of-type {\n",
       "        vertical-align: middle;\n",
       "    }\n",
       "\n",
       "    .dataframe tbody tr th {\n",
       "        vertical-align: top;\n",
       "    }\n",
       "\n",
       "    .dataframe thead th {\n",
       "        text-align: right;\n",
       "    }\n",
       "</style>\n",
       "<table border=\"1\" class=\"dataframe\">\n",
       "  <thead>\n",
       "    <tr style=\"text-align: right;\">\n",
       "      <th></th>\n",
       "      <th>date</th>\n",
       "      <th>store_nbr</th>\n",
       "      <th>item_nbr</th>\n",
       "      <th>unit_sales</th>\n",
       "      <th>onpromotion</th>\n",
       "    </tr>\n",
       "    <tr>\n",
       "      <th>id</th>\n",
       "      <th></th>\n",
       "      <th></th>\n",
       "      <th></th>\n",
       "      <th></th>\n",
       "      <th></th>\n",
       "    </tr>\n",
       "  </thead>\n",
       "  <tbody>\n",
       "    <tr>\n",
       "      <td>0</td>\n",
       "      <td>2013-01-01</td>\n",
       "      <td>25</td>\n",
       "      <td>103665</td>\n",
       "      <td>7.0</td>\n",
       "      <td>NaN</td>\n",
       "    </tr>\n",
       "    <tr>\n",
       "      <td>1</td>\n",
       "      <td>2013-01-01</td>\n",
       "      <td>25</td>\n",
       "      <td>105574</td>\n",
       "      <td>1.0</td>\n",
       "      <td>NaN</td>\n",
       "    </tr>\n",
       "    <tr>\n",
       "      <td>2</td>\n",
       "      <td>2013-01-01</td>\n",
       "      <td>25</td>\n",
       "      <td>105575</td>\n",
       "      <td>2.0</td>\n",
       "      <td>NaN</td>\n",
       "    </tr>\n",
       "    <tr>\n",
       "      <td>3</td>\n",
       "      <td>2013-01-01</td>\n",
       "      <td>25</td>\n",
       "      <td>108079</td>\n",
       "      <td>1.0</td>\n",
       "      <td>NaN</td>\n",
       "    </tr>\n",
       "    <tr>\n",
       "      <td>4</td>\n",
       "      <td>2013-01-01</td>\n",
       "      <td>25</td>\n",
       "      <td>108701</td>\n",
       "      <td>1.0</td>\n",
       "      <td>NaN</td>\n",
       "    </tr>\n",
       "  </tbody>\n",
       "</table>\n",
       "</div>"
      ],
      "text/plain": [
       "          date  store_nbr  item_nbr  unit_sales onpromotion\n",
       "id                                                         \n",
       "0   2013-01-01         25    103665         7.0         NaN\n",
       "1   2013-01-01         25    105574         1.0         NaN\n",
       "2   2013-01-01         25    105575         2.0         NaN\n",
       "3   2013-01-01         25    108079         1.0         NaN\n",
       "4   2013-01-01         25    108701         1.0         NaN"
      ]
     },
     "execution_count": 21,
     "metadata": {},
     "output_type": "execute_result"
    }
   ],
   "source": [
    "# first 5 rows in train\n",
    "train.head()"
   ]
  },
  {
   "cell_type": "code",
   "execution_count": 22,
   "metadata": {},
   "outputs": [
    {
     "name": "stdout",
     "output_type": "stream",
     "text": [
      "<class 'pandas.core.frame.DataFrame'>\n",
      "Int64Index: 125497040 entries, 0 to 125497039\n",
      "Data columns (total 5 columns):\n",
      "date           object\n",
      "store_nbr      int64\n",
      "item_nbr       int64\n",
      "unit_sales     float64\n",
      "onpromotion    object\n",
      "dtypes: float64(1), int64(2), object(2)\n",
      "memory usage: 5.6+ GB\n"
     ]
    }
   ],
   "source": [
    "# data types in train\n",
    "train.info()"
   ]
  },
  {
   "cell_type": "code",
   "execution_count": 23,
   "metadata": {},
   "outputs": [
    {
     "name": "stdout",
     "output_type": "stream",
     "text": [
      "Start date: 2013-01-01\n",
      "End date: 2017-08-15\n"
     ]
    }
   ],
   "source": [
    "# date range in train\n",
    "print('Start date:', train['date'].min())\n",
    "print('End date:', train['date'].max())"
   ]
  },
  {
   "cell_type": "code",
   "execution_count": 24,
   "metadata": {},
   "outputs": [
    {
     "data": {
      "text/plain": [
       "date           0.000000\n",
       "store_nbr      0.000000\n",
       "item_nbr       0.000000\n",
       "unit_sales     0.000000\n",
       "onpromotion    0.172575\n",
       "dtype: float64"
      ]
     },
     "execution_count": 24,
     "metadata": {},
     "output_type": "execute_result"
    }
   ],
   "source": [
    "# check for missing values\n",
    "np.mean(train.isna(), axis = 0)"
   ]
  },
  {
   "cell_type": "markdown",
   "metadata": {},
   "source": [
    "Finding: 17% of 'onpromotion' column is NaN - will look into this later when merged with other data for more information"
   ]
  },
  {
   "cell_type": "code",
   "execution_count": 25,
   "metadata": {},
   "outputs": [],
   "source": [
    "# only keep item_nbr's that are perishable\n",
    "train = train[train['item_nbr'].isin(items_perish)]"
   ]
  },
  {
   "cell_type": "markdown",
   "metadata": {},
   "source": [
    "4) Inspect holiday_events data"
   ]
  },
  {
   "cell_type": "code",
   "execution_count": 26,
   "metadata": {},
   "outputs": [
    {
     "name": "stdout",
     "output_type": "stream",
     "text": [
      "Number of rows in holiday_events: 350\n",
      "Number of columns in holiday_events: 6\n"
     ]
    }
   ],
   "source": [
    "# number of rows and columns in holiday_events\n",
    "print('Number of rows in holiday_events:',holiday_events.shape[0])\n",
    "print('Number of columns in holiday_events:',holiday_events.shape[1])"
   ]
  },
  {
   "cell_type": "code",
   "execution_count": 27,
   "metadata": {},
   "outputs": [
    {
     "data": {
      "text/html": [
       "<div>\n",
       "<style scoped>\n",
       "    .dataframe tbody tr th:only-of-type {\n",
       "        vertical-align: middle;\n",
       "    }\n",
       "\n",
       "    .dataframe tbody tr th {\n",
       "        vertical-align: top;\n",
       "    }\n",
       "\n",
       "    .dataframe thead th {\n",
       "        text-align: right;\n",
       "    }\n",
       "</style>\n",
       "<table border=\"1\" class=\"dataframe\">\n",
       "  <thead>\n",
       "    <tr style=\"text-align: right;\">\n",
       "      <th></th>\n",
       "      <th>date</th>\n",
       "      <th>type</th>\n",
       "      <th>locale</th>\n",
       "      <th>locale_name</th>\n",
       "      <th>description</th>\n",
       "      <th>transferred</th>\n",
       "    </tr>\n",
       "  </thead>\n",
       "  <tbody>\n",
       "    <tr>\n",
       "      <td>0</td>\n",
       "      <td>2012-03-02</td>\n",
       "      <td>Holiday</td>\n",
       "      <td>Local</td>\n",
       "      <td>Manta</td>\n",
       "      <td>Fundacion de Manta</td>\n",
       "      <td>False</td>\n",
       "    </tr>\n",
       "    <tr>\n",
       "      <td>1</td>\n",
       "      <td>2012-04-01</td>\n",
       "      <td>Holiday</td>\n",
       "      <td>Regional</td>\n",
       "      <td>Cotopaxi</td>\n",
       "      <td>Provincializacion de Cotopaxi</td>\n",
       "      <td>False</td>\n",
       "    </tr>\n",
       "    <tr>\n",
       "      <td>2</td>\n",
       "      <td>2012-04-12</td>\n",
       "      <td>Holiday</td>\n",
       "      <td>Local</td>\n",
       "      <td>Cuenca</td>\n",
       "      <td>Fundacion de Cuenca</td>\n",
       "      <td>False</td>\n",
       "    </tr>\n",
       "    <tr>\n",
       "      <td>3</td>\n",
       "      <td>2012-04-14</td>\n",
       "      <td>Holiday</td>\n",
       "      <td>Local</td>\n",
       "      <td>Libertad</td>\n",
       "      <td>Cantonizacion de Libertad</td>\n",
       "      <td>False</td>\n",
       "    </tr>\n",
       "    <tr>\n",
       "      <td>4</td>\n",
       "      <td>2012-04-21</td>\n",
       "      <td>Holiday</td>\n",
       "      <td>Local</td>\n",
       "      <td>Riobamba</td>\n",
       "      <td>Cantonizacion de Riobamba</td>\n",
       "      <td>False</td>\n",
       "    </tr>\n",
       "  </tbody>\n",
       "</table>\n",
       "</div>"
      ],
      "text/plain": [
       "         date     type    locale locale_name                    description  \\\n",
       "0  2012-03-02  Holiday     Local       Manta             Fundacion de Manta   \n",
       "1  2012-04-01  Holiday  Regional    Cotopaxi  Provincializacion de Cotopaxi   \n",
       "2  2012-04-12  Holiday     Local      Cuenca            Fundacion de Cuenca   \n",
       "3  2012-04-14  Holiday     Local    Libertad      Cantonizacion de Libertad   \n",
       "4  2012-04-21  Holiday     Local    Riobamba      Cantonizacion de Riobamba   \n",
       "\n",
       "   transferred  \n",
       "0        False  \n",
       "1        False  \n",
       "2        False  \n",
       "3        False  \n",
       "4        False  "
      ]
     },
     "execution_count": 27,
     "metadata": {},
     "output_type": "execute_result"
    }
   ],
   "source": [
    "# first 5 rows in holiday_events - starts in 2012 but there are no sales data during that time\n",
    "holiday_events.head()"
   ]
  },
  {
   "cell_type": "code",
   "execution_count": 28,
   "metadata": {},
   "outputs": [
    {
     "name": "stdout",
     "output_type": "stream",
     "text": [
      "<class 'pandas.core.frame.DataFrame'>\n",
      "RangeIndex: 350 entries, 0 to 349\n",
      "Data columns (total 6 columns):\n",
      "date           350 non-null object\n",
      "type           350 non-null object\n",
      "locale         350 non-null object\n",
      "locale_name    350 non-null object\n",
      "description    350 non-null object\n",
      "transferred    350 non-null bool\n",
      "dtypes: bool(1), object(5)\n",
      "memory usage: 14.1+ KB\n"
     ]
    }
   ],
   "source": [
    "# data types in holiday_events\n",
    "holiday_events.info()"
   ]
  },
  {
   "cell_type": "code",
   "execution_count": 29,
   "metadata": {},
   "outputs": [
    {
     "data": {
      "text/plain": [
       "date           0.0\n",
       "type           0.0\n",
       "locale         0.0\n",
       "locale_name    0.0\n",
       "description    0.0\n",
       "transferred    0.0\n",
       "dtype: float64"
      ]
     },
     "execution_count": 29,
     "metadata": {},
     "output_type": "execute_result"
    }
   ],
   "source": [
    "# check for missing values\n",
    "np.mean(holiday_events.isna(), axis = 0)"
   ]
  },
  {
   "cell_type": "code",
   "execution_count": 30,
   "metadata": {},
   "outputs": [
    {
     "data": {
      "text/plain": [
       "array(['Holiday', 'Transfer', 'Additional', 'Bridge', 'Work Day', 'Event'],\n",
       "      dtype=object)"
      ]
     },
     "execution_count": 30,
     "metadata": {},
     "output_type": "execute_result"
    }
   ],
   "source": [
    "# what are the holiday types?\n",
    "holiday_events['type'].unique()"
   ]
  },
  {
   "cell_type": "code",
   "execution_count": 31,
   "metadata": {},
   "outputs": [
    {
     "data": {
      "text/plain": [
       "Holiday       221\n",
       "Event          56\n",
       "Additional     51\n",
       "Transfer       12\n",
       "Work Day        5\n",
       "Bridge          5\n",
       "Name: type, dtype: int64"
      ]
     },
     "execution_count": 31,
     "metadata": {},
     "output_type": "execute_result"
    }
   ],
   "source": [
    "# how many counts are there of each holiday type?\n",
    "holiday_events['type'].value_counts()"
   ]
  },
  {
   "cell_type": "code",
   "execution_count": 32,
   "metadata": {},
   "outputs": [
    {
     "data": {
      "text/plain": [
       "False    338\n",
       "True      12\n",
       "Name: transferred, dtype: int64"
      ]
     },
     "execution_count": 32,
     "metadata": {},
     "output_type": "execute_result"
    }
   ],
   "source": [
    "# when the transferred column = True then that day is not actually a holiday and the holiday was moved to a different day\n",
    "holiday_events['transferred'].value_counts()"
   ]
  },
  {
   "cell_type": "code",
   "execution_count": 33,
   "metadata": {},
   "outputs": [],
   "source": [
    "# drop dates where the holiday was transferred to another date\n",
    "holiday_events = holiday_events[holiday_events['transferred'] != True]"
   ]
  },
  {
   "cell_type": "code",
   "execution_count": 34,
   "metadata": {
    "scrolled": true
   },
   "outputs": [],
   "source": [
    "# don't need column 'description' and 'transferred' anymore\n",
    "holiday_events.drop(columns = ['description', 'transferred'], inplace = True)"
   ]
  },
  {
   "cell_type": "markdown",
   "metadata": {},
   "source": [
    "# Merged Grocery Store Datasets"
   ]
  },
  {
   "cell_type": "markdown",
   "metadata": {},
   "source": [
    "Faster to do merges one by one"
   ]
  },
  {
   "cell_type": "code",
   "execution_count": 35,
   "metadata": {},
   "outputs": [],
   "source": [
    "# full merge train and stores on 'store_nbr'\n",
    "train_stores = pd.merge(train, stores, on = 'store_nbr', how = 'outer')"
   ]
  },
  {
   "cell_type": "code",
   "execution_count": 36,
   "metadata": {},
   "outputs": [],
   "source": [
    "# full merge train_stores with items on 'item_nbr'\n",
    "train_stores_items = pd.merge(train_stores, items, on = 'item_nbr', how = 'outer')"
   ]
  },
  {
   "cell_type": "code",
   "execution_count": 37,
   "metadata": {},
   "outputs": [],
   "source": [
    "# full merge train_stores_items with holiday_events on 'date'\n",
    "sales = pd.merge(train_stores_items, holiday_events, on = 'date', how = 'outer')"
   ]
  },
  {
   "cell_type": "code",
   "execution_count": 38,
   "metadata": {},
   "outputs": [
    {
     "data": {
      "text/html": [
       "<div>\n",
       "<style scoped>\n",
       "    .dataframe tbody tr th:only-of-type {\n",
       "        vertical-align: middle;\n",
       "    }\n",
       "\n",
       "    .dataframe tbody tr th {\n",
       "        vertical-align: top;\n",
       "    }\n",
       "\n",
       "    .dataframe thead th {\n",
       "        text-align: right;\n",
       "    }\n",
       "</style>\n",
       "<table border=\"1\" class=\"dataframe\">\n",
       "  <thead>\n",
       "    <tr style=\"text-align: right;\">\n",
       "      <th></th>\n",
       "      <th>date</th>\n",
       "      <th>store_nbr</th>\n",
       "      <th>item_nbr</th>\n",
       "      <th>unit_sales</th>\n",
       "      <th>onpromotion</th>\n",
       "      <th>city</th>\n",
       "      <th>state</th>\n",
       "      <th>family</th>\n",
       "      <th>perishable</th>\n",
       "      <th>type</th>\n",
       "      <th>locale</th>\n",
       "      <th>locale_name</th>\n",
       "    </tr>\n",
       "  </thead>\n",
       "  <tbody>\n",
       "    <tr>\n",
       "      <td>0</td>\n",
       "      <td>2013-01-01</td>\n",
       "      <td>25.0</td>\n",
       "      <td>103665.0</td>\n",
       "      <td>7.0</td>\n",
       "      <td>NaN</td>\n",
       "      <td>Salinas</td>\n",
       "      <td>Santa Elena</td>\n",
       "      <td>BREAD/BAKERY</td>\n",
       "      <td>1.0</td>\n",
       "      <td>Holiday</td>\n",
       "      <td>National</td>\n",
       "      <td>Ecuador</td>\n",
       "    </tr>\n",
       "    <tr>\n",
       "      <td>1</td>\n",
       "      <td>2013-01-01</td>\n",
       "      <td>25.0</td>\n",
       "      <td>108701.0</td>\n",
       "      <td>1.0</td>\n",
       "      <td>NaN</td>\n",
       "      <td>Salinas</td>\n",
       "      <td>Santa Elena</td>\n",
       "      <td>DELI</td>\n",
       "      <td>1.0</td>\n",
       "      <td>Holiday</td>\n",
       "      <td>National</td>\n",
       "      <td>Ecuador</td>\n",
       "    </tr>\n",
       "    <tr>\n",
       "      <td>2</td>\n",
       "      <td>2013-01-01</td>\n",
       "      <td>25.0</td>\n",
       "      <td>129635.0</td>\n",
       "      <td>11.0</td>\n",
       "      <td>NaN</td>\n",
       "      <td>Salinas</td>\n",
       "      <td>Santa Elena</td>\n",
       "      <td>DAIRY</td>\n",
       "      <td>1.0</td>\n",
       "      <td>Holiday</td>\n",
       "      <td>National</td>\n",
       "      <td>Ecuador</td>\n",
       "    </tr>\n",
       "    <tr>\n",
       "      <td>3</td>\n",
       "      <td>2013-01-01</td>\n",
       "      <td>25.0</td>\n",
       "      <td>153239.0</td>\n",
       "      <td>3.0</td>\n",
       "      <td>NaN</td>\n",
       "      <td>Salinas</td>\n",
       "      <td>Santa Elena</td>\n",
       "      <td>BREAD/BAKERY</td>\n",
       "      <td>1.0</td>\n",
       "      <td>Holiday</td>\n",
       "      <td>National</td>\n",
       "      <td>Ecuador</td>\n",
       "    </tr>\n",
       "    <tr>\n",
       "      <td>4</td>\n",
       "      <td>2013-01-01</td>\n",
       "      <td>25.0</td>\n",
       "      <td>153395.0</td>\n",
       "      <td>7.0</td>\n",
       "      <td>NaN</td>\n",
       "      <td>Salinas</td>\n",
       "      <td>Santa Elena</td>\n",
       "      <td>BREAD/BAKERY</td>\n",
       "      <td>1.0</td>\n",
       "      <td>Holiday</td>\n",
       "      <td>National</td>\n",
       "      <td>Ecuador</td>\n",
       "    </tr>\n",
       "  </tbody>\n",
       "</table>\n",
       "</div>"
      ],
      "text/plain": [
       "         date  store_nbr  item_nbr  unit_sales onpromotion     city  \\\n",
       "0  2013-01-01       25.0  103665.0         7.0         NaN  Salinas   \n",
       "1  2013-01-01       25.0  108701.0         1.0         NaN  Salinas   \n",
       "2  2013-01-01       25.0  129635.0        11.0         NaN  Salinas   \n",
       "3  2013-01-01       25.0  153239.0         3.0         NaN  Salinas   \n",
       "4  2013-01-01       25.0  153395.0         7.0         NaN  Salinas   \n",
       "\n",
       "         state        family  perishable     type    locale locale_name  \n",
       "0  Santa Elena  BREAD/BAKERY         1.0  Holiday  National     Ecuador  \n",
       "1  Santa Elena          DELI         1.0  Holiday  National     Ecuador  \n",
       "2  Santa Elena         DAIRY         1.0  Holiday  National     Ecuador  \n",
       "3  Santa Elena  BREAD/BAKERY         1.0  Holiday  National     Ecuador  \n",
       "4  Santa Elena  BREAD/BAKERY         1.0  Holiday  National     Ecuador  "
      ]
     },
     "execution_count": 38,
     "metadata": {},
     "output_type": "execute_result"
    }
   ],
   "source": [
    "# first 5 rows of sales\n",
    "sales.head()"
   ]
  },
  {
   "cell_type": "code",
   "execution_count": 39,
   "metadata": {},
   "outputs": [
    {
     "name": "stdout",
     "output_type": "stream",
     "text": [
      "Number of rows in sales: 32332061\n",
      "Number of columns in sales: 12\n"
     ]
    }
   ],
   "source": [
    "# number of rows and columns in sales (all stores)\n",
    "print('Number of rows in sales:',sales.shape[0])\n",
    "print('Number of columns in sales:',sales.shape[1])"
   ]
  },
  {
   "cell_type": "markdown",
   "metadata": {},
   "source": [
    "For now I will just look at 5 stores that have the largest number of sales that are in 5 different cities."
   ]
  },
  {
   "cell_type": "code",
   "execution_count": 40,
   "metadata": {},
   "outputs": [
    {
     "data": {
      "text/plain": [
       "44.0    963115\n",
       "49.0    952631\n",
       "45.0    944699\n",
       "8.0     939593\n",
       "47.0    935618\n",
       "3.0     932835\n",
       "46.0    906940\n",
       "50.0    875363\n",
       "48.0    869469\n",
       "2.0     863790\n",
       "6.0     862932\n",
       "7.0     862168\n",
       "51.0    853500\n",
       "4.0     827041\n",
       "24.0    821334\n",
       "27.0    801148\n",
       "37.0    778298\n",
       "1.0     776132\n",
       "38.0    709181\n",
       "5.0     708103\n",
       "23.0    707420\n",
       "41.0    688024\n",
       "39.0    650715\n",
       "9.0     640319\n",
       "25.0    608991\n",
       "28.0    596871\n",
       "18.0    593541\n",
       "11.0    571464\n",
       "53.0    556169\n",
       "36.0    555333\n",
       "31.0    544016\n",
       "34.0    530024\n",
       "26.0    494356\n",
       "17.0    479705\n",
       "40.0    468527\n",
       "33.0    438109\n",
       "42.0    433754\n",
       "43.0    429201\n",
       "20.0    401810\n",
       "29.0    392860\n",
       "15.0    392057\n",
       "16.0    384409\n",
       "12.0    384025\n",
       "19.0    371283\n",
       "14.0    369055\n",
       "30.0    348894\n",
       "10.0    330545\n",
       "21.0    326872\n",
       "13.0    317725\n",
       "54.0    293384\n",
       "35.0    291382\n",
       "32.0    273416\n",
       "22.0    200558\n",
       "52.0     80178\n",
       "Name: store_nbr, dtype: int64"
      ]
     },
     "execution_count": 40,
     "metadata": {},
     "output_type": "execute_result"
    }
   ],
   "source": [
    "# get count of sales for each store\n",
    "sales['store_nbr'].value_counts()"
   ]
  },
  {
   "cell_type": "code",
   "execution_count": 41,
   "metadata": {},
   "outputs": [
    {
     "data": {
      "text/plain": [
       "state                           city           store_nbr\n",
       "Azuay                           Cuenca         37.0         778298\n",
       "                                               39.0         650715\n",
       "                                               42.0         433754\n",
       "Bolivar                         Guaranda       19.0         371283\n",
       "Chimborazo                      Riobamba       14.0         369055\n",
       "Cotopaxi                        Latacunga      12.0         384025\n",
       "                                               13.0         317725\n",
       "El Oro                          Machala        40.0         468527\n",
       "                                               41.0         688024\n",
       "Esmeraldas                      Esmeraldas     43.0         429201\n",
       "Guayas                          Daule          27.0         801148\n",
       "                                Guayaquil      24.0         821334\n",
       "                                               26.0         494356\n",
       "                                               28.0         596871\n",
       "                                               29.0         392860\n",
       "                                               30.0         348894\n",
       "                                               32.0         273416\n",
       "                                               34.0         530024\n",
       "                                               51.0         853500\n",
       "                                Libertad       36.0         555333\n",
       "                                Playas         35.0         291382\n",
       "Imbabura                        Ibarra         15.0         392057\n",
       "Loja                            Loja           38.0         709181\n",
       "Los Rios                        Babahoyo       31.0         544016\n",
       "                                Quevedo        33.0         438109\n",
       "Manabi                          El Carmen      54.0         293384\n",
       "                                Manta          52.0          80178\n",
       "                                               53.0         556169\n",
       "Pastaza                         Puyo           22.0         200558\n",
       "Pichincha                       Cayambe        11.0         571464\n",
       "                                Quito          1.0          776132\n",
       "                                               2.0          863790\n",
       "                                               3.0          932835\n",
       "                                               4.0          827041\n",
       "                                               6.0          862932\n",
       "                                               7.0          862168\n",
       "                                               8.0          939593\n",
       "                                               9.0          640319\n",
       "                                               10.0         330545\n",
       "                                               17.0         479705\n",
       "                                               18.0         593541\n",
       "                                               20.0         401810\n",
       "                                               44.0         963115\n",
       "                                               45.0         944699\n",
       "                                               46.0         906940\n",
       "                                               47.0         935618\n",
       "                                               48.0         869469\n",
       "                                               49.0         952631\n",
       "Santa Elena                     Salinas        25.0         608991\n",
       "Santo Domingo de los Tsachilas  Santo Domingo  5.0          708103\n",
       "                                               16.0         384409\n",
       "                                               21.0         326872\n",
       "Tungurahua                      Ambato         23.0         707420\n",
       "                                               50.0         875363\n",
       "dtype: int64"
      ]
     },
     "execution_count": 41,
     "metadata": {},
     "output_type": "execute_result"
    }
   ],
   "source": [
    "# get location of each store\n",
    "sales.groupby(['state','city','store_nbr']).size()"
   ]
  },
  {
   "cell_type": "markdown",
   "metadata": {},
   "source": [
    "I will choose store numbers: 44 (Quito), 50 (Ambato), 51 (Guayaquil), 37 (Cuenca), 38 (Loja)"
   ]
  },
  {
   "cell_type": "code",
   "execution_count": 42,
   "metadata": {},
   "outputs": [],
   "source": [
    "# filter to only select stores\n",
    "sales = sales[(sales['store_nbr'] == 44.0) | (sales['store_nbr'] == 50.0) | (sales['store_nbr'] == 51.0) | \\\n",
    "              (sales['store_nbr'] == 37.0) | (sales['store_nbr'] == 38.0)] "
   ]
  },
  {
   "cell_type": "markdown",
   "metadata": {},
   "source": [
    "# Weather Data Scraping"
   ]
  },
  {
   "cell_type": "markdown",
   "metadata": {},
   "source": [
    "website source: https://www.worldweatheronline.com/ \\\n",
    "API wrapper package source: https://github.com/ekapope/WorldWeatherOnline"
   ]
  },
  {
   "cell_type": "code",
   "execution_count": 43,
   "metadata": {},
   "outputs": [
    {
     "name": "stdout",
     "output_type": "stream",
     "text": [
      "Requirement already satisfied: wwo-hist in /opt/anaconda3/lib/python3.7/site-packages (0.0.4)\n",
      "Note: you may need to restart the kernel to use updated packages.\n"
     ]
    }
   ],
   "source": [
    "pip install wwo-hist"
   ]
  },
  {
   "cell_type": "code",
   "execution_count": 44,
   "metadata": {},
   "outputs": [],
   "source": [
    "# import package\n",
    "from wwo_hist import retrieve_hist_data"
   ]
  },
  {
   "cell_type": "code",
   "execution_count": 45,
   "metadata": {},
   "outputs": [],
   "source": [
    "# navigate to folder for data to export to\n",
    "import os\n",
    "os.chdir(\"/Users/paigemcdonald/Documents/GitHub_data/predicting-sales/data/weather\")"
   ]
  },
  {
   "cell_type": "code",
   "execution_count": 46,
   "metadata": {},
   "outputs": [
    {
     "data": {
      "text/plain": [
       "array(['Cuenca', 'Loja', 'Quito', 'Ambato', 'Guayaquil'], dtype=object)"
      ]
     },
     "execution_count": 46,
     "metadata": {},
     "output_type": "execute_result"
    }
   ],
   "source": [
    "# get city names to be scraped\n",
    "sales['city'].unique()"
   ]
  },
  {
   "cell_type": "code",
   "execution_count": 47,
   "metadata": {},
   "outputs": [
    {
     "name": "stdout",
     "output_type": "stream",
     "text": [
      "Sales start date: 2013-01-02\n",
      "Sales end date: 2017-08-15\n"
     ]
    }
   ],
   "source": [
    "# get dates to be scraped\n",
    "print('Sales start date:', sales['date'].min())\n",
    "print('Sales end date:', sales['date'].max())"
   ]
  },
  {
   "cell_type": "code",
   "execution_count": 48,
   "metadata": {},
   "outputs": [
    {
     "name": "stdout",
     "output_type": "stream",
     "text": [
      "\n",
      "\n",
      "Retrieving weather data for Cuenca\n",
      "\n",
      "\n",
      "Currently retrieving data for Cuenca: from 2013-01-02 to 2013-01-31\n",
      "Time elapsed (hh:mm:ss.ms) 0:00:01.978231\n",
      "Currently retrieving data for Cuenca: from 2013-02-01 to 2013-02-28\n",
      "Time elapsed (hh:mm:ss.ms) 0:00:03.069641\n",
      "Currently retrieving data for Cuenca: from 2013-03-01 to 2013-03-31\n",
      "Time elapsed (hh:mm:ss.ms) 0:00:04.874422\n",
      "Currently retrieving data for Cuenca: from 2013-04-01 to 2013-04-30\n",
      "Time elapsed (hh:mm:ss.ms) 0:00:06.196937\n",
      "Currently retrieving data for Cuenca: from 2013-05-01 to 2013-05-31\n",
      "Time elapsed (hh:mm:ss.ms) 0:00:07.596432\n",
      "Currently retrieving data for Cuenca: from 2013-06-01 to 2013-06-30\n",
      "Time elapsed (hh:mm:ss.ms) 0:00:08.816615\n",
      "Currently retrieving data for Cuenca: from 2013-07-01 to 2013-07-31\n",
      "Time elapsed (hh:mm:ss.ms) 0:00:09.972190\n",
      "Currently retrieving data for Cuenca: from 2013-08-01 to 2013-08-31\n",
      "Time elapsed (hh:mm:ss.ms) 0:00:11.299580\n",
      "Currently retrieving data for Cuenca: from 2013-09-01 to 2013-09-30\n",
      "Time elapsed (hh:mm:ss.ms) 0:00:13.143385\n",
      "Currently retrieving data for Cuenca: from 2013-10-01 to 2013-10-31\n",
      "Time elapsed (hh:mm:ss.ms) 0:00:14.548148\n",
      "Currently retrieving data for Cuenca: from 2013-11-01 to 2013-11-30\n",
      "Time elapsed (hh:mm:ss.ms) 0:00:18.880491\n",
      "Currently retrieving data for Cuenca: from 2013-12-01 to 2013-12-31\n",
      "Time elapsed (hh:mm:ss.ms) 0:00:20.476600\n",
      "Currently retrieving data for Cuenca: from 2014-01-01 to 2014-01-31\n",
      "Time elapsed (hh:mm:ss.ms) 0:00:21.742310\n",
      "Currently retrieving data for Cuenca: from 2014-02-01 to 2014-02-28\n",
      "Time elapsed (hh:mm:ss.ms) 0:00:22.919502\n",
      "Currently retrieving data for Cuenca: from 2014-03-01 to 2014-03-31\n",
      "Time elapsed (hh:mm:ss.ms) 0:00:24.353963\n",
      "Currently retrieving data for Cuenca: from 2014-04-01 to 2014-04-30\n",
      "Time elapsed (hh:mm:ss.ms) 0:00:25.498816\n",
      "Currently retrieving data for Cuenca: from 2014-05-01 to 2014-05-31\n",
      "Time elapsed (hh:mm:ss.ms) 0:00:26.844557\n",
      "Currently retrieving data for Cuenca: from 2014-06-01 to 2014-06-30\n",
      "Time elapsed (hh:mm:ss.ms) 0:00:28.126253\n",
      "Currently retrieving data for Cuenca: from 2014-07-01 to 2014-07-31\n",
      "Time elapsed (hh:mm:ss.ms) 0:00:29.405560\n",
      "Currently retrieving data for Cuenca: from 2014-08-01 to 2014-08-31\n",
      "Time elapsed (hh:mm:ss.ms) 0:00:31.142675\n",
      "Currently retrieving data for Cuenca: from 2014-09-01 to 2014-09-30\n",
      "Time elapsed (hh:mm:ss.ms) 0:00:32.395308\n",
      "Currently retrieving data for Cuenca: from 2014-10-01 to 2014-10-31\n",
      "Time elapsed (hh:mm:ss.ms) 0:00:33.825096\n",
      "Currently retrieving data for Cuenca: from 2014-11-01 to 2014-11-30\n",
      "Time elapsed (hh:mm:ss.ms) 0:00:35.092096\n",
      "Currently retrieving data for Cuenca: from 2014-12-01 to 2014-12-31\n",
      "Time elapsed (hh:mm:ss.ms) 0:00:36.358928\n",
      "Currently retrieving data for Cuenca: from 2015-01-01 to 2015-01-31\n",
      "Time elapsed (hh:mm:ss.ms) 0:00:37.859330\n",
      "Currently retrieving data for Cuenca: from 2015-02-01 to 2015-02-28\n",
      "Time elapsed (hh:mm:ss.ms) 0:00:40.577302\n",
      "Currently retrieving data for Cuenca: from 2015-03-01 to 2015-03-31\n",
      "Time elapsed (hh:mm:ss.ms) 0:00:41.845383\n",
      "Currently retrieving data for Cuenca: from 2015-04-01 to 2015-04-30\n",
      "Time elapsed (hh:mm:ss.ms) 0:00:43.102839\n",
      "Currently retrieving data for Cuenca: from 2015-05-01 to 2015-05-31\n",
      "Time elapsed (hh:mm:ss.ms) 0:00:46.024933\n",
      "Currently retrieving data for Cuenca: from 2015-06-01 to 2015-06-30\n",
      "Time elapsed (hh:mm:ss.ms) 0:00:47.310637\n",
      "Currently retrieving data for Cuenca: from 2015-07-01 to 2015-07-31\n",
      "Time elapsed (hh:mm:ss.ms) 0:00:48.940059\n",
      "Currently retrieving data for Cuenca: from 2015-08-01 to 2015-08-31\n",
      "Time elapsed (hh:mm:ss.ms) 0:00:50.419567\n",
      "Currently retrieving data for Cuenca: from 2015-09-01 to 2015-09-30\n",
      "Time elapsed (hh:mm:ss.ms) 0:00:51.655430\n",
      "Currently retrieving data for Cuenca: from 2015-10-01 to 2015-10-31\n",
      "Time elapsed (hh:mm:ss.ms) 0:00:52.853025\n",
      "Currently retrieving data for Cuenca: from 2015-11-01 to 2015-11-30\n",
      "Time elapsed (hh:mm:ss.ms) 0:00:54.039810\n",
      "Currently retrieving data for Cuenca: from 2015-12-01 to 2015-12-31\n",
      "Time elapsed (hh:mm:ss.ms) 0:00:55.395644\n",
      "Currently retrieving data for Cuenca: from 2016-01-01 to 2016-01-31\n",
      "Time elapsed (hh:mm:ss.ms) 0:00:56.681708\n",
      "Currently retrieving data for Cuenca: from 2016-02-01 to 2016-02-29\n",
      "Time elapsed (hh:mm:ss.ms) 0:00:58.112828\n",
      "Currently retrieving data for Cuenca: from 2016-03-01 to 2016-03-31\n",
      "Time elapsed (hh:mm:ss.ms) 0:00:59.361371\n",
      "Currently retrieving data for Cuenca: from 2016-04-01 to 2016-04-30\n",
      "Time elapsed (hh:mm:ss.ms) 0:01:00.648615\n",
      "Currently retrieving data for Cuenca: from 2016-05-01 to 2016-05-31\n",
      "Time elapsed (hh:mm:ss.ms) 0:01:02.913056\n",
      "Currently retrieving data for Cuenca: from 2016-06-01 to 2016-06-30\n",
      "Time elapsed (hh:mm:ss.ms) 0:01:04.070667\n",
      "Currently retrieving data for Cuenca: from 2016-07-01 to 2016-07-31\n",
      "Time elapsed (hh:mm:ss.ms) 0:01:05.783689\n",
      "Currently retrieving data for Cuenca: from 2016-08-01 to 2016-08-31\n",
      "Time elapsed (hh:mm:ss.ms) 0:01:08.357874\n",
      "Currently retrieving data for Cuenca: from 2016-09-01 to 2016-09-30\n",
      "Time elapsed (hh:mm:ss.ms) 0:01:09.617513\n",
      "Currently retrieving data for Cuenca: from 2016-10-01 to 2016-10-31\n",
      "Time elapsed (hh:mm:ss.ms) 0:01:13.219190\n",
      "Currently retrieving data for Cuenca: from 2016-11-01 to 2016-11-30\n",
      "Time elapsed (hh:mm:ss.ms) 0:01:14.370095\n",
      "Currently retrieving data for Cuenca: from 2016-12-01 to 2016-12-31\n",
      "Time elapsed (hh:mm:ss.ms) 0:01:15.593270\n",
      "Currently retrieving data for Cuenca: from 2017-01-01 to 2017-01-31\n",
      "Time elapsed (hh:mm:ss.ms) 0:01:16.884444\n",
      "Currently retrieving data for Cuenca: from 2017-02-01 to 2017-02-28\n",
      "Time elapsed (hh:mm:ss.ms) 0:01:18.126012\n",
      "Currently retrieving data for Cuenca: from 2017-03-01 to 2017-03-31\n",
      "Time elapsed (hh:mm:ss.ms) 0:01:19.440383\n",
      "Currently retrieving data for Cuenca: from 2017-04-01 to 2017-04-30\n",
      "Time elapsed (hh:mm:ss.ms) 0:01:20.606171\n",
      "Currently retrieving data for Cuenca: from 2017-05-01 to 2017-05-31\n",
      "Time elapsed (hh:mm:ss.ms) 0:01:21.795948\n",
      "Currently retrieving data for Cuenca: from 2017-06-01 to 2017-06-30\n",
      "Time elapsed (hh:mm:ss.ms) 0:01:22.982392\n",
      "Currently retrieving data for Cuenca: from 2017-07-01 to 2017-07-31\n",
      "Time elapsed (hh:mm:ss.ms) 0:01:24.429533\n",
      "Currently retrieving data for Cuenca: from 2017-08-01 to 2017-08-15\n",
      "Time elapsed (hh:mm:ss.ms) 0:01:25.323013\n",
      "\n",
      "\n",
      "export Cuenca completed!\n",
      "\n",
      "\n",
      "\n",
      "\n",
      "Retrieving weather data for Loja\n",
      "\n",
      "\n",
      "Currently retrieving data for Loja: from 2013-01-02 to 2013-01-31\n",
      "Time elapsed (hh:mm:ss.ms) 0:00:01.412815\n",
      "Currently retrieving data for Loja: from 2013-02-01 to 2013-02-28\n",
      "Time elapsed (hh:mm:ss.ms) 0:00:02.775970\n",
      "Currently retrieving data for Loja: from 2013-03-01 to 2013-03-31\n",
      "Time elapsed (hh:mm:ss.ms) 0:00:03.961257\n",
      "Currently retrieving data for Loja: from 2013-04-01 to 2013-04-30\n",
      "Time elapsed (hh:mm:ss.ms) 0:00:05.107181\n",
      "Currently retrieving data for Loja: from 2013-05-01 to 2013-05-31\n",
      "Time elapsed (hh:mm:ss.ms) 0:00:06.754208\n",
      "Currently retrieving data for Loja: from 2013-06-01 to 2013-06-30\n",
      "Time elapsed (hh:mm:ss.ms) 0:00:08.278582\n",
      "Currently retrieving data for Loja: from 2013-07-01 to 2013-07-31\n",
      "Time elapsed (hh:mm:ss.ms) 0:00:09.806381\n",
      "Currently retrieving data for Loja: from 2013-08-01 to 2013-08-31\n",
      "Time elapsed (hh:mm:ss.ms) 0:00:11.130044\n",
      "Currently retrieving data for Loja: from 2013-09-01 to 2013-09-30\n",
      "Time elapsed (hh:mm:ss.ms) 0:00:12.373325\n",
      "Currently retrieving data for Loja: from 2013-10-01 to 2013-10-31\n",
      "Time elapsed (hh:mm:ss.ms) 0:00:13.891417\n",
      "Currently retrieving data for Loja: from 2013-11-01 to 2013-11-30\n",
      "Time elapsed (hh:mm:ss.ms) 0:00:15.320099\n",
      "Currently retrieving data for Loja: from 2013-12-01 to 2013-12-31\n",
      "Time elapsed (hh:mm:ss.ms) 0:00:16.609598\n",
      "Currently retrieving data for Loja: from 2014-01-01 to 2014-01-31\n",
      "Time elapsed (hh:mm:ss.ms) 0:00:18.196342\n",
      "Currently retrieving data for Loja: from 2014-02-01 to 2014-02-28\n",
      "Time elapsed (hh:mm:ss.ms) 0:00:19.663731\n",
      "Currently retrieving data for Loja: from 2014-03-01 to 2014-03-31\n",
      "Time elapsed (hh:mm:ss.ms) 0:00:21.309749\n",
      "Currently retrieving data for Loja: from 2014-04-01 to 2014-04-30\n",
      "Time elapsed (hh:mm:ss.ms) 0:00:22.934626\n",
      "Currently retrieving data for Loja: from 2014-05-01 to 2014-05-31\n",
      "Time elapsed (hh:mm:ss.ms) 0:00:24.387845\n",
      "Currently retrieving data for Loja: from 2014-06-01 to 2014-06-30\n",
      "Time elapsed (hh:mm:ss.ms) 0:00:25.611725\n",
      "Currently retrieving data for Loja: from 2014-07-01 to 2014-07-31\n"
     ]
    },
    {
     "name": "stdout",
     "output_type": "stream",
     "text": [
      "Time elapsed (hh:mm:ss.ms) 0:00:26.979746\n",
      "Currently retrieving data for Loja: from 2014-08-01 to 2014-08-31\n",
      "Time elapsed (hh:mm:ss.ms) 0:00:28.346675\n",
      "Currently retrieving data for Loja: from 2014-09-01 to 2014-09-30\n",
      "Time elapsed (hh:mm:ss.ms) 0:00:29.496100\n",
      "Currently retrieving data for Loja: from 2014-10-01 to 2014-10-31\n",
      "Time elapsed (hh:mm:ss.ms) 0:00:30.722273\n",
      "Currently retrieving data for Loja: from 2014-11-01 to 2014-11-30\n",
      "Time elapsed (hh:mm:ss.ms) 0:00:31.964445\n",
      "Currently retrieving data for Loja: from 2014-12-01 to 2014-12-31\n",
      "Time elapsed (hh:mm:ss.ms) 0:00:33.333253\n",
      "Currently retrieving data for Loja: from 2015-01-01 to 2015-01-31\n",
      "Time elapsed (hh:mm:ss.ms) 0:00:35.109221\n",
      "Currently retrieving data for Loja: from 2015-02-01 to 2015-02-28\n",
      "Time elapsed (hh:mm:ss.ms) 0:00:36.311411\n",
      "Currently retrieving data for Loja: from 2015-03-01 to 2015-03-31\n",
      "Time elapsed (hh:mm:ss.ms) 0:00:39.243371\n",
      "Currently retrieving data for Loja: from 2015-04-01 to 2015-04-30\n",
      "Time elapsed (hh:mm:ss.ms) 0:00:40.520003\n",
      "Currently retrieving data for Loja: from 2015-05-01 to 2015-05-31\n",
      "Time elapsed (hh:mm:ss.ms) 0:00:41.802595\n",
      "Currently retrieving data for Loja: from 2015-06-01 to 2015-06-30\n",
      "Time elapsed (hh:mm:ss.ms) 0:00:43.361302\n",
      "Currently retrieving data for Loja: from 2015-07-01 to 2015-07-31\n",
      "Time elapsed (hh:mm:ss.ms) 0:00:45.056929\n",
      "Currently retrieving data for Loja: from 2015-08-01 to 2015-08-31\n",
      "Time elapsed (hh:mm:ss.ms) 0:00:46.639595\n",
      "Currently retrieving data for Loja: from 2015-09-01 to 2015-09-30\n",
      "Time elapsed (hh:mm:ss.ms) 0:00:48.110782\n",
      "Currently retrieving data for Loja: from 2015-10-01 to 2015-10-31\n",
      "Time elapsed (hh:mm:ss.ms) 0:00:49.619996\n",
      "Currently retrieving data for Loja: from 2015-11-01 to 2015-11-30\n",
      "Time elapsed (hh:mm:ss.ms) 0:00:50.956882\n",
      "Currently retrieving data for Loja: from 2015-12-01 to 2015-12-31\n",
      "Time elapsed (hh:mm:ss.ms) 0:00:52.525393\n",
      "Currently retrieving data for Loja: from 2016-01-01 to 2016-01-31\n",
      "Time elapsed (hh:mm:ss.ms) 0:00:53.857530\n",
      "Currently retrieving data for Loja: from 2016-02-01 to 2016-02-29\n",
      "Time elapsed (hh:mm:ss.ms) 0:00:55.305427\n",
      "Currently retrieving data for Loja: from 2016-03-01 to 2016-03-31\n",
      "Time elapsed (hh:mm:ss.ms) 0:00:56.533568\n",
      "Currently retrieving data for Loja: from 2016-04-01 to 2016-04-30\n",
      "Time elapsed (hh:mm:ss.ms) 0:00:57.698460\n",
      "Currently retrieving data for Loja: from 2016-05-01 to 2016-05-31\n",
      "Time elapsed (hh:mm:ss.ms) 0:00:59.261519\n",
      "Currently retrieving data for Loja: from 2016-06-01 to 2016-06-30\n",
      "Time elapsed (hh:mm:ss.ms) 0:01:00.462718\n",
      "Currently retrieving data for Loja: from 2016-07-01 to 2016-07-31\n",
      "Time elapsed (hh:mm:ss.ms) 0:01:01.650981\n",
      "Currently retrieving data for Loja: from 2016-08-01 to 2016-08-31\n",
      "Time elapsed (hh:mm:ss.ms) 0:01:02.937669\n",
      "Currently retrieving data for Loja: from 2016-09-01 to 2016-09-30\n",
      "Time elapsed (hh:mm:ss.ms) 0:01:04.104301\n",
      "Currently retrieving data for Loja: from 2016-10-01 to 2016-10-31\n",
      "Time elapsed (hh:mm:ss.ms) 0:01:05.303170\n",
      "Currently retrieving data for Loja: from 2016-11-01 to 2016-11-30\n",
      "Time elapsed (hh:mm:ss.ms) 0:01:06.504417\n",
      "Currently retrieving data for Loja: from 2016-12-01 to 2016-12-31\n",
      "Time elapsed (hh:mm:ss.ms) 0:01:07.997667\n",
      "Currently retrieving data for Loja: from 2017-01-01 to 2017-01-31\n",
      "Time elapsed (hh:mm:ss.ms) 0:01:09.567462\n",
      "Currently retrieving data for Loja: from 2017-02-01 to 2017-02-28\n",
      "Time elapsed (hh:mm:ss.ms) 0:01:11.009808\n",
      "Currently retrieving data for Loja: from 2017-03-01 to 2017-03-31\n",
      "Time elapsed (hh:mm:ss.ms) 0:01:12.286579\n",
      "Currently retrieving data for Loja: from 2017-04-01 to 2017-04-30\n",
      "Time elapsed (hh:mm:ss.ms) 0:01:13.608816\n",
      "Currently retrieving data for Loja: from 2017-05-01 to 2017-05-31\n",
      "Time elapsed (hh:mm:ss.ms) 0:01:15.303672\n",
      "Currently retrieving data for Loja: from 2017-06-01 to 2017-06-30\n",
      "Time elapsed (hh:mm:ss.ms) 0:01:16.682115\n",
      "Currently retrieving data for Loja: from 2017-07-01 to 2017-07-31\n",
      "Time elapsed (hh:mm:ss.ms) 0:01:18.189569\n",
      "Currently retrieving data for Loja: from 2017-08-01 to 2017-08-15\n",
      "Time elapsed (hh:mm:ss.ms) 0:01:19.074718\n",
      "\n",
      "\n",
      "export Loja completed!\n",
      "\n",
      "\n",
      "\n",
      "\n",
      "Retrieving weather data for Quito\n",
      "\n",
      "\n",
      "Currently retrieving data for Quito: from 2013-01-02 to 2013-01-31\n",
      "Time elapsed (hh:mm:ss.ms) 0:00:01.476350\n",
      "Currently retrieving data for Quito: from 2013-02-01 to 2013-02-28\n",
      "Time elapsed (hh:mm:ss.ms) 0:00:03.220764\n",
      "Currently retrieving data for Quito: from 2013-03-01 to 2013-03-31\n",
      "Time elapsed (hh:mm:ss.ms) 0:00:04.855849\n",
      "Currently retrieving data for Quito: from 2013-04-01 to 2013-04-30\n",
      "Time elapsed (hh:mm:ss.ms) 0:00:06.753275\n",
      "Currently retrieving data for Quito: from 2013-05-01 to 2013-05-31\n",
      "Time elapsed (hh:mm:ss.ms) 0:00:09.108020\n",
      "Currently retrieving data for Quito: from 2013-06-01 to 2013-06-30\n",
      "Time elapsed (hh:mm:ss.ms) 0:00:10.659087\n",
      "Currently retrieving data for Quito: from 2013-07-01 to 2013-07-31\n",
      "Time elapsed (hh:mm:ss.ms) 0:00:12.119419\n",
      "Currently retrieving data for Quito: from 2013-08-01 to 2013-08-31\n",
      "Time elapsed (hh:mm:ss.ms) 0:00:13.494926\n",
      "Currently retrieving data for Quito: from 2013-09-01 to 2013-09-30\n",
      "Time elapsed (hh:mm:ss.ms) 0:00:14.639207\n",
      "Currently retrieving data for Quito: from 2013-10-01 to 2013-10-31\n",
      "Time elapsed (hh:mm:ss.ms) 0:00:16.030112\n",
      "Currently retrieving data for Quito: from 2013-11-01 to 2013-11-30\n",
      "Time elapsed (hh:mm:ss.ms) 0:00:17.525940\n",
      "Currently retrieving data for Quito: from 2013-12-01 to 2013-12-31\n",
      "Time elapsed (hh:mm:ss.ms) 0:00:19.240794\n",
      "Currently retrieving data for Quito: from 2014-01-01 to 2014-01-31\n",
      "Time elapsed (hh:mm:ss.ms) 0:00:20.573229\n",
      "Currently retrieving data for Quito: from 2014-02-01 to 2014-02-28\n",
      "Time elapsed (hh:mm:ss.ms) 0:00:21.726211\n",
      "Currently retrieving data for Quito: from 2014-03-01 to 2014-03-31\n",
      "Time elapsed (hh:mm:ss.ms) 0:00:23.208421\n",
      "Currently retrieving data for Quito: from 2014-04-01 to 2014-04-30\n",
      "Time elapsed (hh:mm:ss.ms) 0:00:25.148760\n",
      "Currently retrieving data for Quito: from 2014-05-01 to 2014-05-31\n",
      "Time elapsed (hh:mm:ss.ms) 0:00:26.393163\n",
      "Currently retrieving data for Quito: from 2014-06-01 to 2014-06-30\n",
      "Time elapsed (hh:mm:ss.ms) 0:00:27.767358\n",
      "Currently retrieving data for Quito: from 2014-07-01 to 2014-07-31\n",
      "Time elapsed (hh:mm:ss.ms) 0:00:29.174096\n",
      "Currently retrieving data for Quito: from 2014-08-01 to 2014-08-31\n",
      "Time elapsed (hh:mm:ss.ms) 0:00:30.349531\n",
      "Currently retrieving data for Quito: from 2014-09-01 to 2014-09-30\n",
      "Time elapsed (hh:mm:ss.ms) 0:00:31.671775\n",
      "Currently retrieving data for Quito: from 2014-10-01 to 2014-10-31\n",
      "Time elapsed (hh:mm:ss.ms) 0:00:33.061761\n",
      "Currently retrieving data for Quito: from 2014-11-01 to 2014-11-30\n",
      "Time elapsed (hh:mm:ss.ms) 0:00:34.330408\n",
      "Currently retrieving data for Quito: from 2014-12-01 to 2014-12-31\n",
      "Time elapsed (hh:mm:ss.ms) 0:00:36.180607\n",
      "Currently retrieving data for Quito: from 2015-01-01 to 2015-01-31\n",
      "Time elapsed (hh:mm:ss.ms) 0:00:37.696109\n",
      "Currently retrieving data for Quito: from 2015-02-01 to 2015-02-28\n",
      "Time elapsed (hh:mm:ss.ms) 0:00:39.257393\n",
      "Currently retrieving data for Quito: from 2015-03-01 to 2015-03-31\n",
      "Time elapsed (hh:mm:ss.ms) 0:00:40.700507\n",
      "Currently retrieving data for Quito: from 2015-04-01 to 2015-04-30\n",
      "Time elapsed (hh:mm:ss.ms) 0:00:41.878414\n",
      "Currently retrieving data for Quito: from 2015-05-01 to 2015-05-31\n",
      "Time elapsed (hh:mm:ss.ms) 0:00:43.174844\n",
      "Currently retrieving data for Quito: from 2015-06-01 to 2015-06-30\n",
      "Time elapsed (hh:mm:ss.ms) 0:00:44.394149\n",
      "Currently retrieving data for Quito: from 2015-07-01 to 2015-07-31\n",
      "Time elapsed (hh:mm:ss.ms) 0:00:45.711030\n",
      "Currently retrieving data for Quito: from 2015-08-01 to 2015-08-31\n",
      "Time elapsed (hh:mm:ss.ms) 0:00:47.199872\n",
      "Currently retrieving data for Quito: from 2015-09-01 to 2015-09-30\n",
      "Time elapsed (hh:mm:ss.ms) 0:00:48.409864\n",
      "Currently retrieving data for Quito: from 2015-10-01 to 2015-10-31\n",
      "Time elapsed (hh:mm:ss.ms) 0:00:49.687496\n",
      "Currently retrieving data for Quito: from 2015-11-01 to 2015-11-30\n",
      "Time elapsed (hh:mm:ss.ms) 0:00:50.928852\n",
      "Currently retrieving data for Quito: from 2015-12-01 to 2015-12-31\n",
      "Time elapsed (hh:mm:ss.ms) 0:00:52.325263\n",
      "Currently retrieving data for Quito: from 2016-01-01 to 2016-01-31\n",
      "Time elapsed (hh:mm:ss.ms) 0:00:53.631689\n",
      "Currently retrieving data for Quito: from 2016-02-01 to 2016-02-29\n"
     ]
    },
    {
     "name": "stdout",
     "output_type": "stream",
     "text": [
      "Time elapsed (hh:mm:ss.ms) 0:00:54.846975\n",
      "Currently retrieving data for Quito: from 2016-03-01 to 2016-03-31\n",
      "Time elapsed (hh:mm:ss.ms) 0:00:56.420658\n",
      "Currently retrieving data for Quito: from 2016-04-01 to 2016-04-30\n",
      "Time elapsed (hh:mm:ss.ms) 0:00:57.669033\n",
      "Currently retrieving data for Quito: from 2016-05-01 to 2016-05-31\n",
      "Time elapsed (hh:mm:ss.ms) 0:00:59.044683\n",
      "Currently retrieving data for Quito: from 2016-06-01 to 2016-06-30\n",
      "Time elapsed (hh:mm:ss.ms) 0:01:00.561615\n",
      "Currently retrieving data for Quito: from 2016-07-01 to 2016-07-31\n",
      "Time elapsed (hh:mm:ss.ms) 0:01:02.328929\n",
      "Currently retrieving data for Quito: from 2016-08-01 to 2016-08-31\n",
      "Time elapsed (hh:mm:ss.ms) 0:01:03.990405\n",
      "Currently retrieving data for Quito: from 2016-09-01 to 2016-09-30\n",
      "Time elapsed (hh:mm:ss.ms) 0:01:05.756881\n",
      "Currently retrieving data for Quito: from 2016-10-01 to 2016-10-31\n",
      "Time elapsed (hh:mm:ss.ms) 0:01:07.128970\n",
      "Currently retrieving data for Quito: from 2016-11-01 to 2016-11-30\n",
      "Time elapsed (hh:mm:ss.ms) 0:01:08.415265\n",
      "Currently retrieving data for Quito: from 2016-12-01 to 2016-12-31\n",
      "Time elapsed (hh:mm:ss.ms) 0:01:09.642645\n",
      "Currently retrieving data for Quito: from 2017-01-01 to 2017-01-31\n",
      "Time elapsed (hh:mm:ss.ms) 0:01:10.955515\n",
      "Currently retrieving data for Quito: from 2017-02-01 to 2017-02-28\n",
      "Time elapsed (hh:mm:ss.ms) 0:01:12.260461\n",
      "Currently retrieving data for Quito: from 2017-03-01 to 2017-03-31\n",
      "Time elapsed (hh:mm:ss.ms) 0:01:13.830876\n",
      "Currently retrieving data for Quito: from 2017-04-01 to 2017-04-30\n",
      "Time elapsed (hh:mm:ss.ms) 0:01:15.248018\n",
      "Currently retrieving data for Quito: from 2017-05-01 to 2017-05-31\n",
      "Time elapsed (hh:mm:ss.ms) 0:01:16.735300\n",
      "Currently retrieving data for Quito: from 2017-06-01 to 2017-06-30\n",
      "Time elapsed (hh:mm:ss.ms) 0:01:18.459572\n",
      "Currently retrieving data for Quito: from 2017-07-01 to 2017-07-31\n",
      "Time elapsed (hh:mm:ss.ms) 0:01:20.468247\n",
      "Currently retrieving data for Quito: from 2017-08-01 to 2017-08-15\n",
      "Time elapsed (hh:mm:ss.ms) 0:01:21.248623\n",
      "\n",
      "\n",
      "export Quito completed!\n",
      "\n",
      "\n",
      "\n",
      "\n",
      "Retrieving weather data for Ambato\n",
      "\n",
      "\n",
      "Currently retrieving data for Ambato: from 2013-01-02 to 2013-01-31\n",
      "Time elapsed (hh:mm:ss.ms) 0:00:01.312345\n",
      "Currently retrieving data for Ambato: from 2013-02-01 to 2013-02-28\n",
      "Time elapsed (hh:mm:ss.ms) 0:00:02.710469\n",
      "Currently retrieving data for Ambato: from 2013-03-01 to 2013-03-31\n",
      "Time elapsed (hh:mm:ss.ms) 0:00:04.388697\n",
      "Currently retrieving data for Ambato: from 2013-04-01 to 2013-04-30\n",
      "Time elapsed (hh:mm:ss.ms) 0:00:05.874667\n",
      "Currently retrieving data for Ambato: from 2013-05-01 to 2013-05-31\n",
      "Time elapsed (hh:mm:ss.ms) 0:00:07.088526\n",
      "Currently retrieving data for Ambato: from 2013-06-01 to 2013-06-30\n",
      "Time elapsed (hh:mm:ss.ms) 0:00:08.336610\n",
      "Currently retrieving data for Ambato: from 2013-07-01 to 2013-07-31\n",
      "Time elapsed (hh:mm:ss.ms) 0:00:09.507591\n",
      "Currently retrieving data for Ambato: from 2013-08-01 to 2013-08-31\n",
      "Time elapsed (hh:mm:ss.ms) 0:00:10.725054\n",
      "Currently retrieving data for Ambato: from 2013-09-01 to 2013-09-30\n",
      "Time elapsed (hh:mm:ss.ms) 0:00:12.154499\n",
      "Currently retrieving data for Ambato: from 2013-10-01 to 2013-10-31\n",
      "Time elapsed (hh:mm:ss.ms) 0:00:13.433615\n",
      "Currently retrieving data for Ambato: from 2013-11-01 to 2013-11-30\n",
      "Time elapsed (hh:mm:ss.ms) 0:00:14.708226\n",
      "Currently retrieving data for Ambato: from 2013-12-01 to 2013-12-31\n",
      "Time elapsed (hh:mm:ss.ms) 0:00:15.842163\n",
      "Currently retrieving data for Ambato: from 2014-01-01 to 2014-01-31\n",
      "Time elapsed (hh:mm:ss.ms) 0:00:18.643825\n",
      "Currently retrieving data for Ambato: from 2014-02-01 to 2014-02-28\n",
      "Time elapsed (hh:mm:ss.ms) 0:00:19.989217\n",
      "Currently retrieving data for Ambato: from 2014-03-01 to 2014-03-31\n",
      "Time elapsed (hh:mm:ss.ms) 0:00:21.233953\n",
      "Currently retrieving data for Ambato: from 2014-04-01 to 2014-04-30\n",
      "Time elapsed (hh:mm:ss.ms) 0:00:22.431191\n",
      "Currently retrieving data for Ambato: from 2014-05-01 to 2014-05-31\n",
      "Time elapsed (hh:mm:ss.ms) 0:00:23.585592\n",
      "Currently retrieving data for Ambato: from 2014-06-01 to 2014-06-30\n",
      "Time elapsed (hh:mm:ss.ms) 0:00:24.672705\n",
      "Currently retrieving data for Ambato: from 2014-07-01 to 2014-07-31\n",
      "Time elapsed (hh:mm:ss.ms) 0:00:25.981950\n",
      "Currently retrieving data for Ambato: from 2014-08-01 to 2014-08-31\n",
      "Time elapsed (hh:mm:ss.ms) 0:00:27.400892\n",
      "Currently retrieving data for Ambato: from 2014-09-01 to 2014-09-30\n",
      "Time elapsed (hh:mm:ss.ms) 0:00:28.529573\n",
      "Currently retrieving data for Ambato: from 2014-10-01 to 2014-10-31\n",
      "Time elapsed (hh:mm:ss.ms) 0:00:29.727505\n",
      "Currently retrieving data for Ambato: from 2014-11-01 to 2014-11-30\n",
      "Time elapsed (hh:mm:ss.ms) 0:00:30.949218\n",
      "Currently retrieving data for Ambato: from 2014-12-01 to 2014-12-31\n",
      "Time elapsed (hh:mm:ss.ms) 0:00:32.169738\n",
      "Currently retrieving data for Ambato: from 2015-01-01 to 2015-01-31\n",
      "Time elapsed (hh:mm:ss.ms) 0:00:33.460004\n",
      "Currently retrieving data for Ambato: from 2015-02-01 to 2015-02-28\n",
      "Time elapsed (hh:mm:ss.ms) 0:00:34.654339\n",
      "Currently retrieving data for Ambato: from 2015-03-01 to 2015-03-31\n",
      "Time elapsed (hh:mm:ss.ms) 0:00:35.853726\n",
      "Currently retrieving data for Ambato: from 2015-04-01 to 2015-04-30\n",
      "Time elapsed (hh:mm:ss.ms) 0:00:37.074320\n",
      "Currently retrieving data for Ambato: from 2015-05-01 to 2015-05-31\n",
      "Time elapsed (hh:mm:ss.ms) 0:00:38.664815\n",
      "Currently retrieving data for Ambato: from 2015-06-01 to 2015-06-30\n",
      "Time elapsed (hh:mm:ss.ms) 0:00:39.857575\n",
      "Currently retrieving data for Ambato: from 2015-07-01 to 2015-07-31\n",
      "Time elapsed (hh:mm:ss.ms) 0:00:41.093681\n",
      "Currently retrieving data for Ambato: from 2015-08-01 to 2015-08-31\n",
      "Time elapsed (hh:mm:ss.ms) 0:00:42.328167\n",
      "Currently retrieving data for Ambato: from 2015-09-01 to 2015-09-30\n",
      "Time elapsed (hh:mm:ss.ms) 0:00:43.575817\n",
      "Currently retrieving data for Ambato: from 2015-10-01 to 2015-10-31\n",
      "Time elapsed (hh:mm:ss.ms) 0:00:44.978846\n",
      "Currently retrieving data for Ambato: from 2015-11-01 to 2015-11-30\n",
      "Time elapsed (hh:mm:ss.ms) 0:00:46.384081\n",
      "Currently retrieving data for Ambato: from 2015-12-01 to 2015-12-31\n",
      "Time elapsed (hh:mm:ss.ms) 0:00:47.750259\n",
      "Currently retrieving data for Ambato: from 2016-01-01 to 2016-01-31\n",
      "Time elapsed (hh:mm:ss.ms) 0:00:49.285702\n",
      "Currently retrieving data for Ambato: from 2016-02-01 to 2016-02-29\n",
      "Time elapsed (hh:mm:ss.ms) 0:00:50.786091\n",
      "Currently retrieving data for Ambato: from 2016-03-01 to 2016-03-31\n",
      "Time elapsed (hh:mm:ss.ms) 0:00:52.251672\n",
      "Currently retrieving data for Ambato: from 2016-04-01 to 2016-04-30\n",
      "Time elapsed (hh:mm:ss.ms) 0:00:53.440571\n",
      "Currently retrieving data for Ambato: from 2016-05-01 to 2016-05-31\n",
      "Time elapsed (hh:mm:ss.ms) 0:00:54.793971\n",
      "Currently retrieving data for Ambato: from 2016-06-01 to 2016-06-30\n",
      "Time elapsed (hh:mm:ss.ms) 0:00:56.097669\n",
      "Currently retrieving data for Ambato: from 2016-07-01 to 2016-07-31\n",
      "Time elapsed (hh:mm:ss.ms) 0:00:57.413409\n",
      "Currently retrieving data for Ambato: from 2016-08-01 to 2016-08-31\n",
      "Time elapsed (hh:mm:ss.ms) 0:00:58.782670\n",
      "Currently retrieving data for Ambato: from 2016-09-01 to 2016-09-30\n",
      "Time elapsed (hh:mm:ss.ms) 0:00:59.974493\n",
      "Currently retrieving data for Ambato: from 2016-10-01 to 2016-10-31\n",
      "Time elapsed (hh:mm:ss.ms) 0:01:01.540737\n",
      "Currently retrieving data for Ambato: from 2016-11-01 to 2016-11-30\n",
      "Time elapsed (hh:mm:ss.ms) 0:01:02.832208\n",
      "Currently retrieving data for Ambato: from 2016-12-01 to 2016-12-31\n",
      "Time elapsed (hh:mm:ss.ms) 0:01:04.233634\n",
      "Currently retrieving data for Ambato: from 2017-01-01 to 2017-01-31\n",
      "Time elapsed (hh:mm:ss.ms) 0:01:05.856191\n",
      "Currently retrieving data for Ambato: from 2017-02-01 to 2017-02-28\n",
      "Time elapsed (hh:mm:ss.ms) 0:01:07.196975\n",
      "Currently retrieving data for Ambato: from 2017-03-01 to 2017-03-31\n",
      "Time elapsed (hh:mm:ss.ms) 0:01:08.446936\n",
      "Currently retrieving data for Ambato: from 2017-04-01 to 2017-04-30\n",
      "Time elapsed (hh:mm:ss.ms) 0:01:09.801368\n",
      "Currently retrieving data for Ambato: from 2017-05-01 to 2017-05-31\n",
      "Time elapsed (hh:mm:ss.ms) 0:01:11.229526\n",
      "Currently retrieving data for Ambato: from 2017-06-01 to 2017-06-30\n",
      "Time elapsed (hh:mm:ss.ms) 0:01:12.542293\n",
      "Currently retrieving data for Ambato: from 2017-07-01 to 2017-07-31\n",
      "Time elapsed (hh:mm:ss.ms) 0:01:13.933622\n",
      "Currently retrieving data for Ambato: from 2017-08-01 to 2017-08-15\n",
      "Time elapsed (hh:mm:ss.ms) 0:01:14.909451\n",
      "\n",
      "\n",
      "export Ambato completed!\n",
      "\n",
      "\n",
      "\n",
      "\n",
      "Retrieving weather data for Guayaquil\n",
      "\n",
      "\n",
      "Currently retrieving data for Guayaquil: from 2013-01-02 to 2013-01-31\n"
     ]
    },
    {
     "name": "stdout",
     "output_type": "stream",
     "text": [
      "Time elapsed (hh:mm:ss.ms) 0:00:01.229801\n",
      "Currently retrieving data for Guayaquil: from 2013-02-01 to 2013-02-28\n",
      "Time elapsed (hh:mm:ss.ms) 0:00:02.744735\n",
      "Currently retrieving data for Guayaquil: from 2013-03-01 to 2013-03-31\n",
      "Time elapsed (hh:mm:ss.ms) 0:00:04.067242\n",
      "Currently retrieving data for Guayaquil: from 2013-04-01 to 2013-04-30\n",
      "Time elapsed (hh:mm:ss.ms) 0:00:05.311152\n",
      "Currently retrieving data for Guayaquil: from 2013-05-01 to 2013-05-31\n",
      "Time elapsed (hh:mm:ss.ms) 0:00:06.604605\n",
      "Currently retrieving data for Guayaquil: from 2013-06-01 to 2013-06-30\n",
      "Time elapsed (hh:mm:ss.ms) 0:00:08.023780\n",
      "Currently retrieving data for Guayaquil: from 2013-07-01 to 2013-07-31\n",
      "Time elapsed (hh:mm:ss.ms) 0:00:09.185543\n",
      "Currently retrieving data for Guayaquil: from 2013-08-01 to 2013-08-31\n",
      "Time elapsed (hh:mm:ss.ms) 0:00:10.460002\n",
      "Currently retrieving data for Guayaquil: from 2013-09-01 to 2013-09-30\n",
      "Time elapsed (hh:mm:ss.ms) 0:00:11.656491\n",
      "Currently retrieving data for Guayaquil: from 2013-10-01 to 2013-10-31\n",
      "Time elapsed (hh:mm:ss.ms) 0:00:12.902768\n",
      "Currently retrieving data for Guayaquil: from 2013-11-01 to 2013-11-30\n",
      "Time elapsed (hh:mm:ss.ms) 0:00:14.175497\n",
      "Currently retrieving data for Guayaquil: from 2013-12-01 to 2013-12-31\n",
      "Time elapsed (hh:mm:ss.ms) 0:00:15.459926\n",
      "Currently retrieving data for Guayaquil: from 2014-01-01 to 2014-01-31\n",
      "Time elapsed (hh:mm:ss.ms) 0:00:16.663139\n",
      "Currently retrieving data for Guayaquil: from 2014-02-01 to 2014-02-28\n",
      "Time elapsed (hh:mm:ss.ms) 0:00:18.056436\n",
      "Currently retrieving data for Guayaquil: from 2014-03-01 to 2014-03-31\n",
      "Time elapsed (hh:mm:ss.ms) 0:00:19.304067\n",
      "Currently retrieving data for Guayaquil: from 2014-04-01 to 2014-04-30\n",
      "Time elapsed (hh:mm:ss.ms) 0:00:20.534198\n",
      "Currently retrieving data for Guayaquil: from 2014-05-01 to 2014-05-31\n",
      "Time elapsed (hh:mm:ss.ms) 0:00:21.829638\n",
      "Currently retrieving data for Guayaquil: from 2014-06-01 to 2014-06-30\n",
      "Time elapsed (hh:mm:ss.ms) 0:00:23.045072\n",
      "Currently retrieving data for Guayaquil: from 2014-07-01 to 2014-07-31\n",
      "Time elapsed (hh:mm:ss.ms) 0:00:24.302090\n",
      "Currently retrieving data for Guayaquil: from 2014-08-01 to 2014-08-31\n",
      "Time elapsed (hh:mm:ss.ms) 0:00:25.755495\n",
      "Currently retrieving data for Guayaquil: from 2014-09-01 to 2014-09-30\n",
      "Time elapsed (hh:mm:ss.ms) 0:00:27.078332\n",
      "Currently retrieving data for Guayaquil: from 2014-10-01 to 2014-10-31\n",
      "Time elapsed (hh:mm:ss.ms) 0:00:28.347921\n",
      "Currently retrieving data for Guayaquil: from 2014-11-01 to 2014-11-30\n",
      "Time elapsed (hh:mm:ss.ms) 0:00:29.589988\n",
      "Currently retrieving data for Guayaquil: from 2014-12-01 to 2014-12-31\n",
      "Time elapsed (hh:mm:ss.ms) 0:00:30.806673\n",
      "Currently retrieving data for Guayaquil: from 2015-01-01 to 2015-01-31\n",
      "Time elapsed (hh:mm:ss.ms) 0:00:32.416648\n",
      "Currently retrieving data for Guayaquil: from 2015-02-01 to 2015-02-28\n",
      "Time elapsed (hh:mm:ss.ms) 0:00:33.619326\n",
      "Currently retrieving data for Guayaquil: from 2015-03-01 to 2015-03-31\n",
      "Time elapsed (hh:mm:ss.ms) 0:00:35.059682\n",
      "Currently retrieving data for Guayaquil: from 2015-04-01 to 2015-04-30\n",
      "Time elapsed (hh:mm:ss.ms) 0:00:37.533913\n",
      "Currently retrieving data for Guayaquil: from 2015-05-01 to 2015-05-31\n",
      "Time elapsed (hh:mm:ss.ms) 0:00:38.948251\n",
      "Currently retrieving data for Guayaquil: from 2015-06-01 to 2015-06-30\n",
      "Time elapsed (hh:mm:ss.ms) 0:00:40.417619\n",
      "Currently retrieving data for Guayaquil: from 2015-07-01 to 2015-07-31\n",
      "Time elapsed (hh:mm:ss.ms) 0:00:42.070707\n",
      "Currently retrieving data for Guayaquil: from 2015-08-01 to 2015-08-31\n",
      "Time elapsed (hh:mm:ss.ms) 0:00:43.597848\n",
      "Currently retrieving data for Guayaquil: from 2015-09-01 to 2015-09-30\n",
      "Time elapsed (hh:mm:ss.ms) 0:00:45.556519\n",
      "Currently retrieving data for Guayaquil: from 2015-10-01 to 2015-10-31\n",
      "Time elapsed (hh:mm:ss.ms) 0:00:46.921240\n",
      "Currently retrieving data for Guayaquil: from 2015-11-01 to 2015-11-30\n",
      "Time elapsed (hh:mm:ss.ms) 0:00:48.319814\n",
      "Currently retrieving data for Guayaquil: from 2015-12-01 to 2015-12-31\n",
      "Time elapsed (hh:mm:ss.ms) 0:00:49.946043\n",
      "Currently retrieving data for Guayaquil: from 2016-01-01 to 2016-01-31\n",
      "Time elapsed (hh:mm:ss.ms) 0:00:51.266157\n",
      "Currently retrieving data for Guayaquil: from 2016-02-01 to 2016-02-29\n",
      "Time elapsed (hh:mm:ss.ms) 0:00:52.468361\n",
      "Currently retrieving data for Guayaquil: from 2016-03-01 to 2016-03-31\n",
      "Time elapsed (hh:mm:ss.ms) 0:00:54.045667\n",
      "Currently retrieving data for Guayaquil: from 2016-04-01 to 2016-04-30\n",
      "Time elapsed (hh:mm:ss.ms) 0:00:55.393950\n",
      "Currently retrieving data for Guayaquil: from 2016-05-01 to 2016-05-31\n",
      "Time elapsed (hh:mm:ss.ms) 0:00:57.192595\n",
      "Currently retrieving data for Guayaquil: from 2016-06-01 to 2016-06-30\n",
      "Time elapsed (hh:mm:ss.ms) 0:00:58.676522\n",
      "Currently retrieving data for Guayaquil: from 2016-07-01 to 2016-07-31\n",
      "Time elapsed (hh:mm:ss.ms) 0:01:01.451931\n",
      "Currently retrieving data for Guayaquil: from 2016-08-01 to 2016-08-31\n",
      "Time elapsed (hh:mm:ss.ms) 0:01:02.959124\n",
      "Currently retrieving data for Guayaquil: from 2016-09-01 to 2016-09-30\n",
      "Time elapsed (hh:mm:ss.ms) 0:01:04.123039\n",
      "Currently retrieving data for Guayaquil: from 2016-10-01 to 2016-10-31\n",
      "Time elapsed (hh:mm:ss.ms) 0:01:05.488420\n",
      "Currently retrieving data for Guayaquil: from 2016-11-01 to 2016-11-30\n",
      "Time elapsed (hh:mm:ss.ms) 0:01:07.041135\n",
      "Currently retrieving data for Guayaquil: from 2016-12-01 to 2016-12-31\n",
      "Time elapsed (hh:mm:ss.ms) 0:01:08.246719\n",
      "Currently retrieving data for Guayaquil: from 2017-01-01 to 2017-01-31\n",
      "Time elapsed (hh:mm:ss.ms) 0:01:09.868669\n",
      "Currently retrieving data for Guayaquil: from 2017-02-01 to 2017-02-28\n",
      "Time elapsed (hh:mm:ss.ms) 0:01:11.044364\n",
      "Currently retrieving data for Guayaquil: from 2017-03-01 to 2017-03-31\n",
      "Time elapsed (hh:mm:ss.ms) 0:01:12.267344\n",
      "Currently retrieving data for Guayaquil: from 2017-04-01 to 2017-04-30\n",
      "Time elapsed (hh:mm:ss.ms) 0:01:13.629431\n",
      "Currently retrieving data for Guayaquil: from 2017-05-01 to 2017-05-31\n",
      "Time elapsed (hh:mm:ss.ms) 0:01:15.332469\n",
      "Currently retrieving data for Guayaquil: from 2017-06-01 to 2017-06-30\n",
      "Time elapsed (hh:mm:ss.ms) 0:01:16.968707\n",
      "Currently retrieving data for Guayaquil: from 2017-07-01 to 2017-07-31\n",
      "Time elapsed (hh:mm:ss.ms) 0:01:18.366480\n",
      "Currently retrieving data for Guayaquil: from 2017-08-01 to 2017-08-15\n",
      "Time elapsed (hh:mm:ss.ms) 0:01:19.386719\n",
      "\n",
      "\n",
      "export Guayaquil completed!\n",
      "\n",
      "\n"
     ]
    }
   ],
   "source": [
    "frequency=24\n",
    "start_date = '02-JAN-2013'\n",
    "end_date = '15-AUG-2017'\n",
    "api_key = '8c2a6cba115d4139b37212506200911'\n",
    "location_list = ['Cuenca', 'Loja', 'Quito', 'Ambato', 'Guayaquil']\n",
    "\n",
    "hist_weather_data = retrieve_hist_data(api_key,\n",
    "                                location_list,\n",
    "                                start_date,\n",
    "                                end_date,\n",
    "                                frequency,\n",
    "                                location_label = False,\n",
    "                                export_csv = True,\n",
    "                                store_df = True)"
   ]
  },
  {
   "cell_type": "code",
   "execution_count": 49,
   "metadata": {},
   "outputs": [],
   "source": [
    "# Import and merge weather data\n",
    "# source: https://stackoverflow.com/questions/41857659/python-pandas-add-filename-column-csv\n",
    "import os\n",
    "import glob\n",
    "\n",
    "globbed_files = glob.glob('/Users/paigemcdonald/Documents/GitHub_data/predicting-sales/data/weather/*.csv')\n",
    "data = []\n",
    "for csv in globbed_files:\n",
    "    frame = pd.read_csv(csv)\n",
    "    frame['filename'] = os.path.basename(csv)\n",
    "    data.append(frame)\n",
    "\n",
    "weather = pd.concat(data, ignore_index=True)"
   ]
  },
  {
   "cell_type": "code",
   "execution_count": 50,
   "metadata": {},
   "outputs": [
    {
     "name": "stdout",
     "output_type": "stream",
     "text": [
      "Number of rows in weather: 8435\n",
      "Number of columns in weather: 26\n"
     ]
    }
   ],
   "source": [
    "# number of rows and columns in weather dataset\n",
    "print('Number of rows in weather:',weather.shape[0])\n",
    "print('Number of columns in weather:',weather.shape[1])"
   ]
  },
  {
   "cell_type": "code",
   "execution_count": 51,
   "metadata": {},
   "outputs": [],
   "source": [
    "# keep only columns related to date, temperature, precipitation, and city name.\n",
    "weather = weather[['date_time','maxtempC', 'mintempC', 'precipMM', 'filename']] \n",
    "\n",
    "# get rid of .csv so city name can be extracted\n",
    "weather['filename'] = weather['filename'].str.replace('.csv', '')\n",
    "\n",
    "# calculate average temperature\n",
    "weather['avgtemp'] = weather.loc[:, 'maxtempC':'mintempC'].mean(axis = 1)\n",
    "\n",
    "# drop max and min temperature\n",
    "weather = weather.drop(columns = ['maxtempC', 'mintempC']).rename(columns = {'filename': 'city'})\n",
    "\n",
    "# change name of column 'date_time' to 'date'\n",
    "weather.rename(columns = {'date_time':'date'}, inplace = True)"
   ]
  },
  {
   "cell_type": "code",
   "execution_count": 52,
   "metadata": {},
   "outputs": [
    {
     "data": {
      "text/html": [
       "<div>\n",
       "<style scoped>\n",
       "    .dataframe tbody tr th:only-of-type {\n",
       "        vertical-align: middle;\n",
       "    }\n",
       "\n",
       "    .dataframe tbody tr th {\n",
       "        vertical-align: top;\n",
       "    }\n",
       "\n",
       "    .dataframe thead th {\n",
       "        text-align: right;\n",
       "    }\n",
       "</style>\n",
       "<table border=\"1\" class=\"dataframe\">\n",
       "  <thead>\n",
       "    <tr style=\"text-align: right;\">\n",
       "      <th></th>\n",
       "      <th>date</th>\n",
       "      <th>precipMM</th>\n",
       "      <th>city</th>\n",
       "      <th>avgtemp</th>\n",
       "    </tr>\n",
       "  </thead>\n",
       "  <tbody>\n",
       "    <tr>\n",
       "      <td>0</td>\n",
       "      <td>2013-01-02</td>\n",
       "      <td>0.5</td>\n",
       "      <td>Ambato</td>\n",
       "      <td>9.0</td>\n",
       "    </tr>\n",
       "    <tr>\n",
       "      <td>1</td>\n",
       "      <td>2013-01-03</td>\n",
       "      <td>1.9</td>\n",
       "      <td>Ambato</td>\n",
       "      <td>10.5</td>\n",
       "    </tr>\n",
       "    <tr>\n",
       "      <td>2</td>\n",
       "      <td>2013-01-04</td>\n",
       "      <td>1.7</td>\n",
       "      <td>Ambato</td>\n",
       "      <td>10.5</td>\n",
       "    </tr>\n",
       "    <tr>\n",
       "      <td>3</td>\n",
       "      <td>2013-01-05</td>\n",
       "      <td>0.5</td>\n",
       "      <td>Ambato</td>\n",
       "      <td>10.5</td>\n",
       "    </tr>\n",
       "    <tr>\n",
       "      <td>4</td>\n",
       "      <td>2013-01-06</td>\n",
       "      <td>1.1</td>\n",
       "      <td>Ambato</td>\n",
       "      <td>10.5</td>\n",
       "    </tr>\n",
       "  </tbody>\n",
       "</table>\n",
       "</div>"
      ],
      "text/plain": [
       "         date  precipMM    city  avgtemp\n",
       "0  2013-01-02       0.5  Ambato      9.0\n",
       "1  2013-01-03       1.9  Ambato     10.5\n",
       "2  2013-01-04       1.7  Ambato     10.5\n",
       "3  2013-01-05       0.5  Ambato     10.5\n",
       "4  2013-01-06       1.1  Ambato     10.5"
      ]
     },
     "execution_count": 52,
     "metadata": {},
     "output_type": "execute_result"
    }
   ],
   "source": [
    "weather.head()"
   ]
  },
  {
   "cell_type": "code",
   "execution_count": 53,
   "metadata": {},
   "outputs": [],
   "source": [
    "# merge weather with sales on 'date' and 'city' for final dataset\n",
    "final = pd.merge(sales, weather, on = ['date','city'], how = 'outer')"
   ]
  },
  {
   "cell_type": "markdown",
   "metadata": {},
   "source": [
    "# Cleaning and EDA of Final Dataset Containing Sales and Weather"
   ]
  },
  {
   "cell_type": "code",
   "execution_count": 54,
   "metadata": {},
   "outputs": [],
   "source": [
    "# convert date column to date time format\n",
    "final['date'] = pd.to_datetime(final['date'])"
   ]
  },
  {
   "cell_type": "code",
   "execution_count": 55,
   "metadata": {},
   "outputs": [
    {
     "name": "stdout",
     "output_type": "stream",
     "text": [
      "Number of rows in merged final dataset: 4179497\n",
      "Number of columns in merged final dataset: 14\n"
     ]
    }
   ],
   "source": [
    "# number of rows and columns in merged final dataset of only 5 stores\n",
    "print('Number of rows in merged final dataset:',final.shape[0])\n",
    "print('Number of columns in merged final dataset:',final.shape[1])"
   ]
  },
  {
   "cell_type": "code",
   "execution_count": 56,
   "metadata": {
    "scrolled": true
   },
   "outputs": [
    {
     "data": {
      "text/html": [
       "<div>\n",
       "<style scoped>\n",
       "    .dataframe tbody tr th:only-of-type {\n",
       "        vertical-align: middle;\n",
       "    }\n",
       "\n",
       "    .dataframe tbody tr th {\n",
       "        vertical-align: top;\n",
       "    }\n",
       "\n",
       "    .dataframe thead th {\n",
       "        text-align: right;\n",
       "    }\n",
       "</style>\n",
       "<table border=\"1\" class=\"dataframe\">\n",
       "  <thead>\n",
       "    <tr style=\"text-align: right;\">\n",
       "      <th></th>\n",
       "      <th>date</th>\n",
       "      <th>store_nbr</th>\n",
       "      <th>item_nbr</th>\n",
       "      <th>unit_sales</th>\n",
       "      <th>onpromotion</th>\n",
       "      <th>city</th>\n",
       "      <th>state</th>\n",
       "      <th>family</th>\n",
       "      <th>perishable</th>\n",
       "      <th>type</th>\n",
       "      <th>locale</th>\n",
       "      <th>locale_name</th>\n",
       "      <th>precipMM</th>\n",
       "      <th>avgtemp</th>\n",
       "    </tr>\n",
       "  </thead>\n",
       "  <tbody>\n",
       "    <tr>\n",
       "      <td>0</td>\n",
       "      <td>2013-01-02</td>\n",
       "      <td>37.0</td>\n",
       "      <td>103665.0</td>\n",
       "      <td>5.0</td>\n",
       "      <td>NaN</td>\n",
       "      <td>Cuenca</td>\n",
       "      <td>Azuay</td>\n",
       "      <td>BREAD/BAKERY</td>\n",
       "      <td>1.0</td>\n",
       "      <td>NaN</td>\n",
       "      <td>NaN</td>\n",
       "      <td>NaN</td>\n",
       "      <td>0.7</td>\n",
       "      <td>9.0</td>\n",
       "    </tr>\n",
       "    <tr>\n",
       "      <td>1</td>\n",
       "      <td>2013-01-02</td>\n",
       "      <td>37.0</td>\n",
       "      <td>129635.0</td>\n",
       "      <td>9.0</td>\n",
       "      <td>NaN</td>\n",
       "      <td>Cuenca</td>\n",
       "      <td>Azuay</td>\n",
       "      <td>DAIRY</td>\n",
       "      <td>1.0</td>\n",
       "      <td>NaN</td>\n",
       "      <td>NaN</td>\n",
       "      <td>NaN</td>\n",
       "      <td>0.7</td>\n",
       "      <td>9.0</td>\n",
       "    </tr>\n",
       "    <tr>\n",
       "      <td>2</td>\n",
       "      <td>2013-01-02</td>\n",
       "      <td>37.0</td>\n",
       "      <td>153239.0</td>\n",
       "      <td>5.0</td>\n",
       "      <td>NaN</td>\n",
       "      <td>Cuenca</td>\n",
       "      <td>Azuay</td>\n",
       "      <td>BREAD/BAKERY</td>\n",
       "      <td>1.0</td>\n",
       "      <td>NaN</td>\n",
       "      <td>NaN</td>\n",
       "      <td>NaN</td>\n",
       "      <td>0.7</td>\n",
       "      <td>9.0</td>\n",
       "    </tr>\n",
       "    <tr>\n",
       "      <td>3</td>\n",
       "      <td>2013-01-02</td>\n",
       "      <td>37.0</td>\n",
       "      <td>153395.0</td>\n",
       "      <td>4.0</td>\n",
       "      <td>NaN</td>\n",
       "      <td>Cuenca</td>\n",
       "      <td>Azuay</td>\n",
       "      <td>BREAD/BAKERY</td>\n",
       "      <td>1.0</td>\n",
       "      <td>NaN</td>\n",
       "      <td>NaN</td>\n",
       "      <td>NaN</td>\n",
       "      <td>0.7</td>\n",
       "      <td>9.0</td>\n",
       "    </tr>\n",
       "    <tr>\n",
       "      <td>4</td>\n",
       "      <td>2013-01-02</td>\n",
       "      <td>37.0</td>\n",
       "      <td>158680.0</td>\n",
       "      <td>4.0</td>\n",
       "      <td>NaN</td>\n",
       "      <td>Cuenca</td>\n",
       "      <td>Azuay</td>\n",
       "      <td>EGGS</td>\n",
       "      <td>1.0</td>\n",
       "      <td>NaN</td>\n",
       "      <td>NaN</td>\n",
       "      <td>NaN</td>\n",
       "      <td>0.7</td>\n",
       "      <td>9.0</td>\n",
       "    </tr>\n",
       "  </tbody>\n",
       "</table>\n",
       "</div>"
      ],
      "text/plain": [
       "        date  store_nbr  item_nbr  unit_sales onpromotion    city  state  \\\n",
       "0 2013-01-02       37.0  103665.0         5.0         NaN  Cuenca  Azuay   \n",
       "1 2013-01-02       37.0  129635.0         9.0         NaN  Cuenca  Azuay   \n",
       "2 2013-01-02       37.0  153239.0         5.0         NaN  Cuenca  Azuay   \n",
       "3 2013-01-02       37.0  153395.0         4.0         NaN  Cuenca  Azuay   \n",
       "4 2013-01-02       37.0  158680.0         4.0         NaN  Cuenca  Azuay   \n",
       "\n",
       "         family  perishable type locale locale_name  precipMM  avgtemp  \n",
       "0  BREAD/BAKERY         1.0  NaN    NaN         NaN       0.7      9.0  \n",
       "1         DAIRY         1.0  NaN    NaN         NaN       0.7      9.0  \n",
       "2  BREAD/BAKERY         1.0  NaN    NaN         NaN       0.7      9.0  \n",
       "3  BREAD/BAKERY         1.0  NaN    NaN         NaN       0.7      9.0  \n",
       "4          EGGS         1.0  NaN    NaN         NaN       0.7      9.0  "
      ]
     },
     "execution_count": 56,
     "metadata": {},
     "output_type": "execute_result"
    }
   ],
   "source": [
    "# first 5 rows of final dataset\n",
    "final.head()"
   ]
  },
  {
   "cell_type": "code",
   "execution_count": 57,
   "metadata": {},
   "outputs": [],
   "source": [
    "# fix holiday information - will create new column 'holiday' coded as 0 (not holiday) and 1 (holiday)\n",
    "# if 'type' is missing then the date was not in the holiday_events dataframe, was not a holiday, fill with 0\n",
    "# holidays will be everywhere when the locale_name is National, and also only in certain states and cities \n",
    "# will also specify it is a holiday for store 50 on 2016-11-12 since that became problematic specifying with the code\n",
    "\n",
    "final['holiday'] = np.where((final['locale_name'] == 'National') | (final['locale_name']==final['city']) | \\\n",
    "                            (final['locale_name']==final['state']) | ((final['store_nbr']==50.0) & (final['date'] == '2016-11-12')), 1,0)"
   ]
  },
  {
   "cell_type": "code",
   "execution_count": 58,
   "metadata": {},
   "outputs": [],
   "source": [
    "# can drop other holiday related columns now\n",
    "final.drop(columns = ['type','locale','locale_name'], inplace = True)"
   ]
  },
  {
   "cell_type": "code",
   "execution_count": 59,
   "metadata": {},
   "outputs": [
    {
     "data": {
      "text/plain": [
       "0    4160427\n",
       "1      19070\n",
       "Name: holiday, dtype: int64"
      ]
     },
     "execution_count": 59,
     "metadata": {},
     "output_type": "execute_result"
    }
   ],
   "source": [
    "# how many days are holidays?\n",
    "final['holiday'].value_counts()"
   ]
  },
  {
   "cell_type": "code",
   "execution_count": 60,
   "metadata": {},
   "outputs": [
    {
     "data": {
      "text/plain": [
       "date           0.000000\n",
       "store_nbr      0.000010\n",
       "item_nbr       0.000010\n",
       "unit_sales     0.000010\n",
       "onpromotion    0.171321\n",
       "city           0.000000\n",
       "state          0.000010\n",
       "family         0.000010\n",
       "perishable     0.000010\n",
       "precipMM       0.000000\n",
       "avgtemp        0.000000\n",
       "holiday        0.000000\n",
       "dtype: float64"
      ]
     },
     "execution_count": 60,
     "metadata": {},
     "output_type": "execute_result"
    }
   ],
   "source": [
    "# check for missing values\n",
    "np.mean(final.isna(), axis = 0)"
   ]
  },
  {
   "cell_type": "code",
   "execution_count": 61,
   "metadata": {},
   "outputs": [
    {
     "data": {
      "text/html": [
       "<div>\n",
       "<style scoped>\n",
       "    .dataframe tbody tr th:only-of-type {\n",
       "        vertical-align: middle;\n",
       "    }\n",
       "\n",
       "    .dataframe tbody tr th {\n",
       "        vertical-align: top;\n",
       "    }\n",
       "\n",
       "    .dataframe thead th {\n",
       "        text-align: right;\n",
       "    }\n",
       "</style>\n",
       "<table border=\"1\" class=\"dataframe\">\n",
       "  <thead>\n",
       "    <tr style=\"text-align: right;\">\n",
       "      <th></th>\n",
       "      <th>date</th>\n",
       "      <th>store_nbr</th>\n",
       "      <th>item_nbr</th>\n",
       "      <th>unit_sales</th>\n",
       "      <th>onpromotion</th>\n",
       "      <th>city</th>\n",
       "      <th>state</th>\n",
       "      <th>family</th>\n",
       "      <th>perishable</th>\n",
       "      <th>precipMM</th>\n",
       "      <th>avgtemp</th>\n",
       "      <th>holiday</th>\n",
       "    </tr>\n",
       "  </thead>\n",
       "  <tbody>\n",
       "    <tr>\n",
       "      <td>4179457</td>\n",
       "      <td>2013-12-25</td>\n",
       "      <td>NaN</td>\n",
       "      <td>NaN</td>\n",
       "      <td>NaN</td>\n",
       "      <td>NaN</td>\n",
       "      <td>Ambato</td>\n",
       "      <td>NaN</td>\n",
       "      <td>NaN</td>\n",
       "      <td>NaN</td>\n",
       "      <td>1.9</td>\n",
       "      <td>9.0</td>\n",
       "      <td>0</td>\n",
       "    </tr>\n",
       "    <tr>\n",
       "      <td>4179458</td>\n",
       "      <td>2014-01-01</td>\n",
       "      <td>NaN</td>\n",
       "      <td>NaN</td>\n",
       "      <td>NaN</td>\n",
       "      <td>NaN</td>\n",
       "      <td>Ambato</td>\n",
       "      <td>NaN</td>\n",
       "      <td>NaN</td>\n",
       "      <td>NaN</td>\n",
       "      <td>0.6</td>\n",
       "      <td>9.5</td>\n",
       "      <td>0</td>\n",
       "    </tr>\n",
       "    <tr>\n",
       "      <td>4179459</td>\n",
       "      <td>2014-12-25</td>\n",
       "      <td>NaN</td>\n",
       "      <td>NaN</td>\n",
       "      <td>NaN</td>\n",
       "      <td>NaN</td>\n",
       "      <td>Ambato</td>\n",
       "      <td>NaN</td>\n",
       "      <td>NaN</td>\n",
       "      <td>NaN</td>\n",
       "      <td>0.2</td>\n",
       "      <td>9.5</td>\n",
       "      <td>0</td>\n",
       "    </tr>\n",
       "    <tr>\n",
       "      <td>4179460</td>\n",
       "      <td>2015-01-01</td>\n",
       "      <td>NaN</td>\n",
       "      <td>NaN</td>\n",
       "      <td>NaN</td>\n",
       "      <td>NaN</td>\n",
       "      <td>Ambato</td>\n",
       "      <td>NaN</td>\n",
       "      <td>NaN</td>\n",
       "      <td>NaN</td>\n",
       "      <td>1.1</td>\n",
       "      <td>10.0</td>\n",
       "      <td>0</td>\n",
       "    </tr>\n",
       "    <tr>\n",
       "      <td>4179461</td>\n",
       "      <td>2015-12-25</td>\n",
       "      <td>NaN</td>\n",
       "      <td>NaN</td>\n",
       "      <td>NaN</td>\n",
       "      <td>NaN</td>\n",
       "      <td>Ambato</td>\n",
       "      <td>NaN</td>\n",
       "      <td>NaN</td>\n",
       "      <td>NaN</td>\n",
       "      <td>0.7</td>\n",
       "      <td>11.0</td>\n",
       "      <td>0</td>\n",
       "    </tr>\n",
       "    <tr>\n",
       "      <td>4179462</td>\n",
       "      <td>2016-01-01</td>\n",
       "      <td>NaN</td>\n",
       "      <td>NaN</td>\n",
       "      <td>NaN</td>\n",
       "      <td>NaN</td>\n",
       "      <td>Ambato</td>\n",
       "      <td>NaN</td>\n",
       "      <td>NaN</td>\n",
       "      <td>NaN</td>\n",
       "      <td>0.4</td>\n",
       "      <td>11.0</td>\n",
       "      <td>0</td>\n",
       "    </tr>\n",
       "    <tr>\n",
       "      <td>4179463</td>\n",
       "      <td>2016-12-25</td>\n",
       "      <td>NaN</td>\n",
       "      <td>NaN</td>\n",
       "      <td>NaN</td>\n",
       "      <td>NaN</td>\n",
       "      <td>Ambato</td>\n",
       "      <td>NaN</td>\n",
       "      <td>NaN</td>\n",
       "      <td>NaN</td>\n",
       "      <td>0.9</td>\n",
       "      <td>9.0</td>\n",
       "      <td>0</td>\n",
       "    </tr>\n",
       "    <tr>\n",
       "      <td>4179464</td>\n",
       "      <td>2017-01-01</td>\n",
       "      <td>NaN</td>\n",
       "      <td>NaN</td>\n",
       "      <td>NaN</td>\n",
       "      <td>NaN</td>\n",
       "      <td>Ambato</td>\n",
       "      <td>NaN</td>\n",
       "      <td>NaN</td>\n",
       "      <td>NaN</td>\n",
       "      <td>6.0</td>\n",
       "      <td>8.5</td>\n",
       "      <td>0</td>\n",
       "    </tr>\n",
       "    <tr>\n",
       "      <td>4179465</td>\n",
       "      <td>2013-12-25</td>\n",
       "      <td>NaN</td>\n",
       "      <td>NaN</td>\n",
       "      <td>NaN</td>\n",
       "      <td>NaN</td>\n",
       "      <td>Cuenca</td>\n",
       "      <td>NaN</td>\n",
       "      <td>NaN</td>\n",
       "      <td>NaN</td>\n",
       "      <td>0.7</td>\n",
       "      <td>9.0</td>\n",
       "      <td>0</td>\n",
       "    </tr>\n",
       "    <tr>\n",
       "      <td>4179466</td>\n",
       "      <td>2014-01-01</td>\n",
       "      <td>NaN</td>\n",
       "      <td>NaN</td>\n",
       "      <td>NaN</td>\n",
       "      <td>NaN</td>\n",
       "      <td>Cuenca</td>\n",
       "      <td>NaN</td>\n",
       "      <td>NaN</td>\n",
       "      <td>NaN</td>\n",
       "      <td>0.9</td>\n",
       "      <td>11.0</td>\n",
       "      <td>0</td>\n",
       "    </tr>\n",
       "    <tr>\n",
       "      <td>4179467</td>\n",
       "      <td>2014-12-25</td>\n",
       "      <td>NaN</td>\n",
       "      <td>NaN</td>\n",
       "      <td>NaN</td>\n",
       "      <td>NaN</td>\n",
       "      <td>Cuenca</td>\n",
       "      <td>NaN</td>\n",
       "      <td>NaN</td>\n",
       "      <td>NaN</td>\n",
       "      <td>1.5</td>\n",
       "      <td>10.5</td>\n",
       "      <td>0</td>\n",
       "    </tr>\n",
       "    <tr>\n",
       "      <td>4179468</td>\n",
       "      <td>2015-01-01</td>\n",
       "      <td>NaN</td>\n",
       "      <td>NaN</td>\n",
       "      <td>NaN</td>\n",
       "      <td>NaN</td>\n",
       "      <td>Cuenca</td>\n",
       "      <td>NaN</td>\n",
       "      <td>NaN</td>\n",
       "      <td>NaN</td>\n",
       "      <td>0.7</td>\n",
       "      <td>11.0</td>\n",
       "      <td>0</td>\n",
       "    </tr>\n",
       "    <tr>\n",
       "      <td>4179469</td>\n",
       "      <td>2015-12-25</td>\n",
       "      <td>NaN</td>\n",
       "      <td>NaN</td>\n",
       "      <td>NaN</td>\n",
       "      <td>NaN</td>\n",
       "      <td>Cuenca</td>\n",
       "      <td>NaN</td>\n",
       "      <td>NaN</td>\n",
       "      <td>NaN</td>\n",
       "      <td>0.0</td>\n",
       "      <td>13.0</td>\n",
       "      <td>0</td>\n",
       "    </tr>\n",
       "    <tr>\n",
       "      <td>4179470</td>\n",
       "      <td>2016-01-01</td>\n",
       "      <td>NaN</td>\n",
       "      <td>NaN</td>\n",
       "      <td>NaN</td>\n",
       "      <td>NaN</td>\n",
       "      <td>Cuenca</td>\n",
       "      <td>NaN</td>\n",
       "      <td>NaN</td>\n",
       "      <td>NaN</td>\n",
       "      <td>0.0</td>\n",
       "      <td>12.0</td>\n",
       "      <td>0</td>\n",
       "    </tr>\n",
       "    <tr>\n",
       "      <td>4179471</td>\n",
       "      <td>2016-12-25</td>\n",
       "      <td>NaN</td>\n",
       "      <td>NaN</td>\n",
       "      <td>NaN</td>\n",
       "      <td>NaN</td>\n",
       "      <td>Cuenca</td>\n",
       "      <td>NaN</td>\n",
       "      <td>NaN</td>\n",
       "      <td>NaN</td>\n",
       "      <td>0.3</td>\n",
       "      <td>11.0</td>\n",
       "      <td>0</td>\n",
       "    </tr>\n",
       "    <tr>\n",
       "      <td>4179472</td>\n",
       "      <td>2017-01-01</td>\n",
       "      <td>NaN</td>\n",
       "      <td>NaN</td>\n",
       "      <td>NaN</td>\n",
       "      <td>NaN</td>\n",
       "      <td>Cuenca</td>\n",
       "      <td>NaN</td>\n",
       "      <td>NaN</td>\n",
       "      <td>NaN</td>\n",
       "      <td>1.8</td>\n",
       "      <td>11.5</td>\n",
       "      <td>0</td>\n",
       "    </tr>\n",
       "    <tr>\n",
       "      <td>4179473</td>\n",
       "      <td>2013-12-25</td>\n",
       "      <td>NaN</td>\n",
       "      <td>NaN</td>\n",
       "      <td>NaN</td>\n",
       "      <td>NaN</td>\n",
       "      <td>Loja</td>\n",
       "      <td>NaN</td>\n",
       "      <td>NaN</td>\n",
       "      <td>NaN</td>\n",
       "      <td>1.5</td>\n",
       "      <td>19.0</td>\n",
       "      <td>0</td>\n",
       "    </tr>\n",
       "    <tr>\n",
       "      <td>4179474</td>\n",
       "      <td>2014-01-01</td>\n",
       "      <td>NaN</td>\n",
       "      <td>NaN</td>\n",
       "      <td>NaN</td>\n",
       "      <td>NaN</td>\n",
       "      <td>Loja</td>\n",
       "      <td>NaN</td>\n",
       "      <td>NaN</td>\n",
       "      <td>NaN</td>\n",
       "      <td>2.9</td>\n",
       "      <td>17.0</td>\n",
       "      <td>0</td>\n",
       "    </tr>\n",
       "    <tr>\n",
       "      <td>4179475</td>\n",
       "      <td>2014-12-25</td>\n",
       "      <td>NaN</td>\n",
       "      <td>NaN</td>\n",
       "      <td>NaN</td>\n",
       "      <td>NaN</td>\n",
       "      <td>Loja</td>\n",
       "      <td>NaN</td>\n",
       "      <td>NaN</td>\n",
       "      <td>NaN</td>\n",
       "      <td>1.2</td>\n",
       "      <td>17.0</td>\n",
       "      <td>0</td>\n",
       "    </tr>\n",
       "    <tr>\n",
       "      <td>4179476</td>\n",
       "      <td>2015-01-01</td>\n",
       "      <td>NaN</td>\n",
       "      <td>NaN</td>\n",
       "      <td>NaN</td>\n",
       "      <td>NaN</td>\n",
       "      <td>Loja</td>\n",
       "      <td>NaN</td>\n",
       "      <td>NaN</td>\n",
       "      <td>NaN</td>\n",
       "      <td>0.3</td>\n",
       "      <td>16.5</td>\n",
       "      <td>0</td>\n",
       "    </tr>\n",
       "    <tr>\n",
       "      <td>4179477</td>\n",
       "      <td>2015-12-25</td>\n",
       "      <td>NaN</td>\n",
       "      <td>NaN</td>\n",
       "      <td>NaN</td>\n",
       "      <td>NaN</td>\n",
       "      <td>Loja</td>\n",
       "      <td>NaN</td>\n",
       "      <td>NaN</td>\n",
       "      <td>NaN</td>\n",
       "      <td>0.1</td>\n",
       "      <td>17.0</td>\n",
       "      <td>0</td>\n",
       "    </tr>\n",
       "    <tr>\n",
       "      <td>4179478</td>\n",
       "      <td>2016-01-01</td>\n",
       "      <td>NaN</td>\n",
       "      <td>NaN</td>\n",
       "      <td>NaN</td>\n",
       "      <td>NaN</td>\n",
       "      <td>Loja</td>\n",
       "      <td>NaN</td>\n",
       "      <td>NaN</td>\n",
       "      <td>NaN</td>\n",
       "      <td>0.0</td>\n",
       "      <td>17.5</td>\n",
       "      <td>0</td>\n",
       "    </tr>\n",
       "    <tr>\n",
       "      <td>4179479</td>\n",
       "      <td>2016-12-25</td>\n",
       "      <td>NaN</td>\n",
       "      <td>NaN</td>\n",
       "      <td>NaN</td>\n",
       "      <td>NaN</td>\n",
       "      <td>Loja</td>\n",
       "      <td>NaN</td>\n",
       "      <td>NaN</td>\n",
       "      <td>NaN</td>\n",
       "      <td>1.7</td>\n",
       "      <td>18.0</td>\n",
       "      <td>0</td>\n",
       "    </tr>\n",
       "    <tr>\n",
       "      <td>4179480</td>\n",
       "      <td>2017-01-01</td>\n",
       "      <td>NaN</td>\n",
       "      <td>NaN</td>\n",
       "      <td>NaN</td>\n",
       "      <td>NaN</td>\n",
       "      <td>Loja</td>\n",
       "      <td>NaN</td>\n",
       "      <td>NaN</td>\n",
       "      <td>NaN</td>\n",
       "      <td>3.8</td>\n",
       "      <td>17.5</td>\n",
       "      <td>0</td>\n",
       "    </tr>\n",
       "    <tr>\n",
       "      <td>4179481</td>\n",
       "      <td>2013-12-25</td>\n",
       "      <td>NaN</td>\n",
       "      <td>NaN</td>\n",
       "      <td>NaN</td>\n",
       "      <td>NaN</td>\n",
       "      <td>Quito</td>\n",
       "      <td>NaN</td>\n",
       "      <td>NaN</td>\n",
       "      <td>NaN</td>\n",
       "      <td>1.3</td>\n",
       "      <td>10.5</td>\n",
       "      <td>0</td>\n",
       "    </tr>\n",
       "    <tr>\n",
       "      <td>4179482</td>\n",
       "      <td>2014-01-01</td>\n",
       "      <td>NaN</td>\n",
       "      <td>NaN</td>\n",
       "      <td>NaN</td>\n",
       "      <td>NaN</td>\n",
       "      <td>Quito</td>\n",
       "      <td>NaN</td>\n",
       "      <td>NaN</td>\n",
       "      <td>NaN</td>\n",
       "      <td>2.3</td>\n",
       "      <td>13.0</td>\n",
       "      <td>0</td>\n",
       "    </tr>\n",
       "    <tr>\n",
       "      <td>4179483</td>\n",
       "      <td>2014-12-25</td>\n",
       "      <td>NaN</td>\n",
       "      <td>NaN</td>\n",
       "      <td>NaN</td>\n",
       "      <td>NaN</td>\n",
       "      <td>Quito</td>\n",
       "      <td>NaN</td>\n",
       "      <td>NaN</td>\n",
       "      <td>NaN</td>\n",
       "      <td>1.8</td>\n",
       "      <td>11.5</td>\n",
       "      <td>0</td>\n",
       "    </tr>\n",
       "    <tr>\n",
       "      <td>4179484</td>\n",
       "      <td>2015-01-01</td>\n",
       "      <td>NaN</td>\n",
       "      <td>NaN</td>\n",
       "      <td>NaN</td>\n",
       "      <td>NaN</td>\n",
       "      <td>Quito</td>\n",
       "      <td>NaN</td>\n",
       "      <td>NaN</td>\n",
       "      <td>NaN</td>\n",
       "      <td>1.5</td>\n",
       "      <td>13.0</td>\n",
       "      <td>0</td>\n",
       "    </tr>\n",
       "    <tr>\n",
       "      <td>4179485</td>\n",
       "      <td>2015-12-25</td>\n",
       "      <td>NaN</td>\n",
       "      <td>NaN</td>\n",
       "      <td>NaN</td>\n",
       "      <td>NaN</td>\n",
       "      <td>Quito</td>\n",
       "      <td>NaN</td>\n",
       "      <td>NaN</td>\n",
       "      <td>NaN</td>\n",
       "      <td>0.4</td>\n",
       "      <td>14.0</td>\n",
       "      <td>0</td>\n",
       "    </tr>\n",
       "    <tr>\n",
       "      <td>4179486</td>\n",
       "      <td>2016-01-01</td>\n",
       "      <td>NaN</td>\n",
       "      <td>NaN</td>\n",
       "      <td>NaN</td>\n",
       "      <td>NaN</td>\n",
       "      <td>Quito</td>\n",
       "      <td>NaN</td>\n",
       "      <td>NaN</td>\n",
       "      <td>NaN</td>\n",
       "      <td>11.6</td>\n",
       "      <td>13.5</td>\n",
       "      <td>0</td>\n",
       "    </tr>\n",
       "    <tr>\n",
       "      <td>4179487</td>\n",
       "      <td>2016-12-25</td>\n",
       "      <td>NaN</td>\n",
       "      <td>NaN</td>\n",
       "      <td>NaN</td>\n",
       "      <td>NaN</td>\n",
       "      <td>Quito</td>\n",
       "      <td>NaN</td>\n",
       "      <td>NaN</td>\n",
       "      <td>NaN</td>\n",
       "      <td>2.3</td>\n",
       "      <td>11.0</td>\n",
       "      <td>0</td>\n",
       "    </tr>\n",
       "    <tr>\n",
       "      <td>4179488</td>\n",
       "      <td>2017-01-01</td>\n",
       "      <td>NaN</td>\n",
       "      <td>NaN</td>\n",
       "      <td>NaN</td>\n",
       "      <td>NaN</td>\n",
       "      <td>Quito</td>\n",
       "      <td>NaN</td>\n",
       "      <td>NaN</td>\n",
       "      <td>NaN</td>\n",
       "      <td>0.6</td>\n",
       "      <td>12.5</td>\n",
       "      <td>0</td>\n",
       "    </tr>\n",
       "    <tr>\n",
       "      <td>4179489</td>\n",
       "      <td>2013-12-25</td>\n",
       "      <td>NaN</td>\n",
       "      <td>NaN</td>\n",
       "      <td>NaN</td>\n",
       "      <td>NaN</td>\n",
       "      <td>Guayaquil</td>\n",
       "      <td>NaN</td>\n",
       "      <td>NaN</td>\n",
       "      <td>NaN</td>\n",
       "      <td>0.3</td>\n",
       "      <td>29.5</td>\n",
       "      <td>0</td>\n",
       "    </tr>\n",
       "    <tr>\n",
       "      <td>4179490</td>\n",
       "      <td>2014-01-01</td>\n",
       "      <td>NaN</td>\n",
       "      <td>NaN</td>\n",
       "      <td>NaN</td>\n",
       "      <td>NaN</td>\n",
       "      <td>Guayaquil</td>\n",
       "      <td>NaN</td>\n",
       "      <td>NaN</td>\n",
       "      <td>NaN</td>\n",
       "      <td>2.1</td>\n",
       "      <td>28.0</td>\n",
       "      <td>0</td>\n",
       "    </tr>\n",
       "    <tr>\n",
       "      <td>4179491</td>\n",
       "      <td>2014-12-25</td>\n",
       "      <td>NaN</td>\n",
       "      <td>NaN</td>\n",
       "      <td>NaN</td>\n",
       "      <td>NaN</td>\n",
       "      <td>Guayaquil</td>\n",
       "      <td>NaN</td>\n",
       "      <td>NaN</td>\n",
       "      <td>NaN</td>\n",
       "      <td>0.7</td>\n",
       "      <td>28.5</td>\n",
       "      <td>0</td>\n",
       "    </tr>\n",
       "    <tr>\n",
       "      <td>4179492</td>\n",
       "      <td>2015-01-01</td>\n",
       "      <td>NaN</td>\n",
       "      <td>NaN</td>\n",
       "      <td>NaN</td>\n",
       "      <td>NaN</td>\n",
       "      <td>Guayaquil</td>\n",
       "      <td>NaN</td>\n",
       "      <td>NaN</td>\n",
       "      <td>NaN</td>\n",
       "      <td>1.8</td>\n",
       "      <td>27.0</td>\n",
       "      <td>0</td>\n",
       "    </tr>\n",
       "    <tr>\n",
       "      <td>4179493</td>\n",
       "      <td>2015-12-25</td>\n",
       "      <td>NaN</td>\n",
       "      <td>NaN</td>\n",
       "      <td>NaN</td>\n",
       "      <td>NaN</td>\n",
       "      <td>Guayaquil</td>\n",
       "      <td>NaN</td>\n",
       "      <td>NaN</td>\n",
       "      <td>NaN</td>\n",
       "      <td>1.3</td>\n",
       "      <td>29.0</td>\n",
       "      <td>0</td>\n",
       "    </tr>\n",
       "    <tr>\n",
       "      <td>4179494</td>\n",
       "      <td>2016-01-01</td>\n",
       "      <td>NaN</td>\n",
       "      <td>NaN</td>\n",
       "      <td>NaN</td>\n",
       "      <td>NaN</td>\n",
       "      <td>Guayaquil</td>\n",
       "      <td>NaN</td>\n",
       "      <td>NaN</td>\n",
       "      <td>NaN</td>\n",
       "      <td>3.6</td>\n",
       "      <td>29.0</td>\n",
       "      <td>0</td>\n",
       "    </tr>\n",
       "    <tr>\n",
       "      <td>4179495</td>\n",
       "      <td>2016-12-25</td>\n",
       "      <td>NaN</td>\n",
       "      <td>NaN</td>\n",
       "      <td>NaN</td>\n",
       "      <td>NaN</td>\n",
       "      <td>Guayaquil</td>\n",
       "      <td>NaN</td>\n",
       "      <td>NaN</td>\n",
       "      <td>NaN</td>\n",
       "      <td>0.1</td>\n",
       "      <td>29.0</td>\n",
       "      <td>0</td>\n",
       "    </tr>\n",
       "    <tr>\n",
       "      <td>4179496</td>\n",
       "      <td>2017-01-01</td>\n",
       "      <td>NaN</td>\n",
       "      <td>NaN</td>\n",
       "      <td>NaN</td>\n",
       "      <td>NaN</td>\n",
       "      <td>Guayaquil</td>\n",
       "      <td>NaN</td>\n",
       "      <td>NaN</td>\n",
       "      <td>NaN</td>\n",
       "      <td>1.5</td>\n",
       "      <td>29.0</td>\n",
       "      <td>0</td>\n",
       "    </tr>\n",
       "  </tbody>\n",
       "</table>\n",
       "</div>"
      ],
      "text/plain": [
       "              date  store_nbr  item_nbr  unit_sales onpromotion       city  \\\n",
       "4179457 2013-12-25        NaN       NaN         NaN         NaN     Ambato   \n",
       "4179458 2014-01-01        NaN       NaN         NaN         NaN     Ambato   \n",
       "4179459 2014-12-25        NaN       NaN         NaN         NaN     Ambato   \n",
       "4179460 2015-01-01        NaN       NaN         NaN         NaN     Ambato   \n",
       "4179461 2015-12-25        NaN       NaN         NaN         NaN     Ambato   \n",
       "4179462 2016-01-01        NaN       NaN         NaN         NaN     Ambato   \n",
       "4179463 2016-12-25        NaN       NaN         NaN         NaN     Ambato   \n",
       "4179464 2017-01-01        NaN       NaN         NaN         NaN     Ambato   \n",
       "4179465 2013-12-25        NaN       NaN         NaN         NaN     Cuenca   \n",
       "4179466 2014-01-01        NaN       NaN         NaN         NaN     Cuenca   \n",
       "4179467 2014-12-25        NaN       NaN         NaN         NaN     Cuenca   \n",
       "4179468 2015-01-01        NaN       NaN         NaN         NaN     Cuenca   \n",
       "4179469 2015-12-25        NaN       NaN         NaN         NaN     Cuenca   \n",
       "4179470 2016-01-01        NaN       NaN         NaN         NaN     Cuenca   \n",
       "4179471 2016-12-25        NaN       NaN         NaN         NaN     Cuenca   \n",
       "4179472 2017-01-01        NaN       NaN         NaN         NaN     Cuenca   \n",
       "4179473 2013-12-25        NaN       NaN         NaN         NaN       Loja   \n",
       "4179474 2014-01-01        NaN       NaN         NaN         NaN       Loja   \n",
       "4179475 2014-12-25        NaN       NaN         NaN         NaN       Loja   \n",
       "4179476 2015-01-01        NaN       NaN         NaN         NaN       Loja   \n",
       "4179477 2015-12-25        NaN       NaN         NaN         NaN       Loja   \n",
       "4179478 2016-01-01        NaN       NaN         NaN         NaN       Loja   \n",
       "4179479 2016-12-25        NaN       NaN         NaN         NaN       Loja   \n",
       "4179480 2017-01-01        NaN       NaN         NaN         NaN       Loja   \n",
       "4179481 2013-12-25        NaN       NaN         NaN         NaN      Quito   \n",
       "4179482 2014-01-01        NaN       NaN         NaN         NaN      Quito   \n",
       "4179483 2014-12-25        NaN       NaN         NaN         NaN      Quito   \n",
       "4179484 2015-01-01        NaN       NaN         NaN         NaN      Quito   \n",
       "4179485 2015-12-25        NaN       NaN         NaN         NaN      Quito   \n",
       "4179486 2016-01-01        NaN       NaN         NaN         NaN      Quito   \n",
       "4179487 2016-12-25        NaN       NaN         NaN         NaN      Quito   \n",
       "4179488 2017-01-01        NaN       NaN         NaN         NaN      Quito   \n",
       "4179489 2013-12-25        NaN       NaN         NaN         NaN  Guayaquil   \n",
       "4179490 2014-01-01        NaN       NaN         NaN         NaN  Guayaquil   \n",
       "4179491 2014-12-25        NaN       NaN         NaN         NaN  Guayaquil   \n",
       "4179492 2015-01-01        NaN       NaN         NaN         NaN  Guayaquil   \n",
       "4179493 2015-12-25        NaN       NaN         NaN         NaN  Guayaquil   \n",
       "4179494 2016-01-01        NaN       NaN         NaN         NaN  Guayaquil   \n",
       "4179495 2016-12-25        NaN       NaN         NaN         NaN  Guayaquil   \n",
       "4179496 2017-01-01        NaN       NaN         NaN         NaN  Guayaquil   \n",
       "\n",
       "        state family  perishable  precipMM  avgtemp  holiday  \n",
       "4179457   NaN    NaN         NaN       1.9      9.0        0  \n",
       "4179458   NaN    NaN         NaN       0.6      9.5        0  \n",
       "4179459   NaN    NaN         NaN       0.2      9.5        0  \n",
       "4179460   NaN    NaN         NaN       1.1     10.0        0  \n",
       "4179461   NaN    NaN         NaN       0.7     11.0        0  \n",
       "4179462   NaN    NaN         NaN       0.4     11.0        0  \n",
       "4179463   NaN    NaN         NaN       0.9      9.0        0  \n",
       "4179464   NaN    NaN         NaN       6.0      8.5        0  \n",
       "4179465   NaN    NaN         NaN       0.7      9.0        0  \n",
       "4179466   NaN    NaN         NaN       0.9     11.0        0  \n",
       "4179467   NaN    NaN         NaN       1.5     10.5        0  \n",
       "4179468   NaN    NaN         NaN       0.7     11.0        0  \n",
       "4179469   NaN    NaN         NaN       0.0     13.0        0  \n",
       "4179470   NaN    NaN         NaN       0.0     12.0        0  \n",
       "4179471   NaN    NaN         NaN       0.3     11.0        0  \n",
       "4179472   NaN    NaN         NaN       1.8     11.5        0  \n",
       "4179473   NaN    NaN         NaN       1.5     19.0        0  \n",
       "4179474   NaN    NaN         NaN       2.9     17.0        0  \n",
       "4179475   NaN    NaN         NaN       1.2     17.0        0  \n",
       "4179476   NaN    NaN         NaN       0.3     16.5        0  \n",
       "4179477   NaN    NaN         NaN       0.1     17.0        0  \n",
       "4179478   NaN    NaN         NaN       0.0     17.5        0  \n",
       "4179479   NaN    NaN         NaN       1.7     18.0        0  \n",
       "4179480   NaN    NaN         NaN       3.8     17.5        0  \n",
       "4179481   NaN    NaN         NaN       1.3     10.5        0  \n",
       "4179482   NaN    NaN         NaN       2.3     13.0        0  \n",
       "4179483   NaN    NaN         NaN       1.8     11.5        0  \n",
       "4179484   NaN    NaN         NaN       1.5     13.0        0  \n",
       "4179485   NaN    NaN         NaN       0.4     14.0        0  \n",
       "4179486   NaN    NaN         NaN      11.6     13.5        0  \n",
       "4179487   NaN    NaN         NaN       2.3     11.0        0  \n",
       "4179488   NaN    NaN         NaN       0.6     12.5        0  \n",
       "4179489   NaN    NaN         NaN       0.3     29.5        0  \n",
       "4179490   NaN    NaN         NaN       2.1     28.0        0  \n",
       "4179491   NaN    NaN         NaN       0.7     28.5        0  \n",
       "4179492   NaN    NaN         NaN       1.8     27.0        0  \n",
       "4179493   NaN    NaN         NaN       1.3     29.0        0  \n",
       "4179494   NaN    NaN         NaN       3.6     29.0        0  \n",
       "4179495   NaN    NaN         NaN       0.1     29.0        0  \n",
       "4179496   NaN    NaN         NaN       1.5     29.0        0  "
      ]
     },
     "execution_count": 61,
     "metadata": {},
     "output_type": "execute_result"
    }
   ],
   "source": [
    "# look where sales data is missing\n",
    "final[final['store_nbr'].isnull()]"
   ]
  },
  {
   "cell_type": "markdown",
   "metadata": {},
   "source": [
    "Finding: No sales on Christmas and New Years - stores must be closed. Because this is regularly occuring in all years and at all stores I will delete these rows as they are not important for analysis"
   ]
  },
  {
   "cell_type": "code",
   "execution_count": 62,
   "metadata": {},
   "outputs": [],
   "source": [
    "# drop rows where store_nbr is missing because they were likely closed\n",
    "final.dropna(subset = ['store_nbr'], inplace = True)"
   ]
  },
  {
   "cell_type": "code",
   "execution_count": 63,
   "metadata": {
    "scrolled": true
   },
   "outputs": [
    {
     "data": {
      "text/html": [
       "<div>\n",
       "<style scoped>\n",
       "    .dataframe tbody tr th:only-of-type {\n",
       "        vertical-align: middle;\n",
       "    }\n",
       "\n",
       "    .dataframe tbody tr th {\n",
       "        vertical-align: top;\n",
       "    }\n",
       "\n",
       "    .dataframe thead th {\n",
       "        text-align: right;\n",
       "    }\n",
       "</style>\n",
       "<table border=\"1\" class=\"dataframe\">\n",
       "  <thead>\n",
       "    <tr style=\"text-align: right;\">\n",
       "      <th></th>\n",
       "      <th>date</th>\n",
       "      <th>store_nbr</th>\n",
       "      <th>item_nbr</th>\n",
       "      <th>unit_sales</th>\n",
       "      <th>onpromotion</th>\n",
       "      <th>city</th>\n",
       "      <th>state</th>\n",
       "      <th>family</th>\n",
       "      <th>perishable</th>\n",
       "      <th>precipMM</th>\n",
       "      <th>avgtemp</th>\n",
       "      <th>holiday</th>\n",
       "    </tr>\n",
       "    <tr>\n",
       "      <th>date</th>\n",
       "      <th></th>\n",
       "      <th></th>\n",
       "      <th></th>\n",
       "      <th></th>\n",
       "      <th></th>\n",
       "      <th></th>\n",
       "      <th></th>\n",
       "      <th></th>\n",
       "      <th></th>\n",
       "      <th></th>\n",
       "      <th></th>\n",
       "      <th></th>\n",
       "    </tr>\n",
       "  </thead>\n",
       "  <tbody>\n",
       "    <tr>\n",
       "      <td>2013</td>\n",
       "      <td>513526</td>\n",
       "      <td>513526</td>\n",
       "      <td>513526</td>\n",
       "      <td>513526</td>\n",
       "      <td>0</td>\n",
       "      <td>513526</td>\n",
       "      <td>513526</td>\n",
       "      <td>513526</td>\n",
       "      <td>513526</td>\n",
       "      <td>513526</td>\n",
       "      <td>513526</td>\n",
       "      <td>513526</td>\n",
       "    </tr>\n",
       "    <tr>\n",
       "      <td>2014</td>\n",
       "      <td>831594</td>\n",
       "      <td>831594</td>\n",
       "      <td>831594</td>\n",
       "      <td>831594</td>\n",
       "      <td>629123</td>\n",
       "      <td>831594</td>\n",
       "      <td>831594</td>\n",
       "      <td>831594</td>\n",
       "      <td>831594</td>\n",
       "      <td>831594</td>\n",
       "      <td>831594</td>\n",
       "      <td>831594</td>\n",
       "    </tr>\n",
       "    <tr>\n",
       "      <td>2015</td>\n",
       "      <td>908766</td>\n",
       "      <td>908766</td>\n",
       "      <td>908766</td>\n",
       "      <td>908766</td>\n",
       "      <td>908766</td>\n",
       "      <td>908766</td>\n",
       "      <td>908766</td>\n",
       "      <td>908766</td>\n",
       "      <td>908766</td>\n",
       "      <td>908766</td>\n",
       "      <td>908766</td>\n",
       "      <td>908766</td>\n",
       "    </tr>\n",
       "    <tr>\n",
       "      <td>2016</td>\n",
       "      <td>1175638</td>\n",
       "      <td>1175638</td>\n",
       "      <td>1175638</td>\n",
       "      <td>1175638</td>\n",
       "      <td>1175638</td>\n",
       "      <td>1175638</td>\n",
       "      <td>1175638</td>\n",
       "      <td>1175638</td>\n",
       "      <td>1175638</td>\n",
       "      <td>1175638</td>\n",
       "      <td>1175638</td>\n",
       "      <td>1175638</td>\n",
       "    </tr>\n",
       "    <tr>\n",
       "      <td>2017</td>\n",
       "      <td>749933</td>\n",
       "      <td>749933</td>\n",
       "      <td>749933</td>\n",
       "      <td>749933</td>\n",
       "      <td>749933</td>\n",
       "      <td>749933</td>\n",
       "      <td>749933</td>\n",
       "      <td>749933</td>\n",
       "      <td>749933</td>\n",
       "      <td>749933</td>\n",
       "      <td>749933</td>\n",
       "      <td>749933</td>\n",
       "    </tr>\n",
       "  </tbody>\n",
       "</table>\n",
       "</div>"
      ],
      "text/plain": [
       "         date  store_nbr  item_nbr  unit_sales  onpromotion     city    state  \\\n",
       "date                                                                            \n",
       "2013   513526     513526    513526      513526            0   513526   513526   \n",
       "2014   831594     831594    831594      831594       629123   831594   831594   \n",
       "2015   908766     908766    908766      908766       908766   908766   908766   \n",
       "2016  1175638    1175638   1175638     1175638      1175638  1175638  1175638   \n",
       "2017   749933     749933    749933      749933       749933   749933   749933   \n",
       "\n",
       "       family  perishable  precipMM  avgtemp  holiday  \n",
       "date                                                   \n",
       "2013   513526      513526    513526   513526   513526  \n",
       "2014   831594      831594    831594   831594   831594  \n",
       "2015   908766      908766    908766   908766   908766  \n",
       "2016  1175638     1175638   1175638  1175638  1175638  \n",
       "2017   749933      749933    749933   749933   749933  "
      ]
     },
     "execution_count": 63,
     "metadata": {},
     "output_type": "execute_result"
    }
   ],
   "source": [
    "# Roughly same percent of onpromotion is missing in this smaller subset of data as the original set. \n",
    "#Is it related to year?\n",
    "final.groupby(final['date'].dt.year).agg('count')"
   ]
  },
  {
   "cell_type": "markdown",
   "metadata": {},
   "source": [
    "Looks like onpromotion data was not recorded for the year 2013 and up to April 2014 of any stores. Information on the Kaggle website shows that the grocery stores did implement promotions but they were not recorded (https://www.kaggle.com/c/favorita-grocery-sales-forecasting/discussion/41679). Because I am not interested in looking at specific items, I may be able to fill in the missing onpromotion data by looking at trends in the onpromotion data that exists. I will look at the on promotion data for the years 2014-2016 (which will be the eventual training set, to avoid data leakage from the test set) and see if I can use that to extrapolate to the misssing data."
   ]
  },
  {
   "cell_type": "code",
   "execution_count": 64,
   "metadata": {},
   "outputs": [],
   "source": [
    "# separate out dates where onpromotion is not missing and year is not 2017 (avoid test set)\n",
    "final_promo = final[(final['onpromotion'].notnull()) & (final['date'].dt.year != 2017)]\n",
    "\n",
    "# change 'onpromotion' to 1's and 0's\n",
    "final_promo['onpromotion'] = np.where(final_promo['onpromotion'] == True, 1, 0)\n",
    "\n",
    "# Group by item family, day, and store (each row will be unit sales of family each day per store)\n",
    "final_promo = pd.DataFrame(final_promo.groupby(['date', 'store_nbr','family'])['onpromotion'].sum()).reset_index()\n",
    "final_promo['year'] = final_promo['date'].dt.year\n",
    "final_promo['month'] = final_promo['date'].dt.month\n",
    "final_promo['day'] = final_promo['date'].dt.month"
   ]
  },
  {
   "cell_type": "code",
   "execution_count": 65,
   "metadata": {
    "scrolled": true
   },
   "outputs": [
    {
     "data": {
      "image/png": "[encoded data removed]",
      "text/plain": [
       "<Figure size 1207.25x216 with 5 Axes>"
      ]
     },
     "metadata": {
      "needs_background": "light"
     },
     "output_type": "display_data"
    }
   ],
   "source": [
    "# see if on promotion strategy changes between years \n",
    "promo_date = pd.DataFrame(final_promo.groupby(['year', 'store_nbr', 'family'])['onpromotion'].mean().reset_index())\n",
    "\n",
    "g = sns.FacetGrid(promo_date, col=\"store_nbr\", hue=\"family\")\n",
    "g.map(plt.plot, \"year\", \"onpromotion\", alpha=.7)\n",
    "g.add_legend();"
   ]
  },
  {
   "cell_type": "code",
   "execution_count": 66,
   "metadata": {},
   "outputs": [
    {
     "data": {
      "image/png": "[encoded data removed]",
      "text/plain": [
       "<Figure size 1207.25x216 with 5 Axes>"
      ]
     },
     "metadata": {
      "needs_background": "light"
     },
     "output_type": "display_data"
    }
   ],
   "source": [
    "# see if on promotion strategy changes between months\n",
    "promo_date = pd.DataFrame(final_promo.groupby(['month', 'store_nbr', 'family'])['onpromotion'].mean().reset_index())\n",
    "\n",
    "g = sns.FacetGrid(promo_date, col=\"store_nbr\", hue=\"family\")\n",
    "g.map(plt.plot, \"month\", \"onpromotion\", alpha=.7)\n",
    "g.add_legend();"
   ]
  },
  {
   "cell_type": "markdown",
   "metadata": {},
   "source": [
    "Finding: Looks like the promotion strategy increases from 2014 to 2016 and promotions change by month. I will replace the missing onpromotion values with onpromotion data available in the corresponding nearest month, to account for on promotions increasing across years and different family on promotion offers different months."
   ]
  },
  {
   "cell_type": "code",
   "execution_count": 67,
   "metadata": {},
   "outputs": [],
   "source": [
    "# Separate out data sets to be used\n",
    "\n",
    "# data missing on promotion\n",
    "final_13_may14 = final[(final['date'].dt.year == 2013) | ( (final['date'].dt.year == 2014) & (final['date'].dt.month < 4) )]\n",
    "\n",
    "# data with nearest corresponding month\n",
    "final_april14_mar15 = final[((final['date'].dt.year == 2014) & (final['date'].dt.month >=4)) \\\n",
    "                           | ((final['date'].dt.year == 2015) & (final['date'].dt.month <=3))]\n",
    "\n",
    "# create on promotion as 1's and 0's and separate date into year, month, day\n",
    "final_april14_mar15['onpromotion'] = np.where(final_april14_mar15['onpromotion'] == True, 1, 0)\n",
    "final_april14_mar15['year'] = final_april14_mar15['date'].dt.year\n",
    "final_april14_mar15['month'] = final_april14_mar15['date'].dt.month\n",
    "final_april14_mar15['day'] = final_april14_mar15['date'].dt.day"
   ]
  },
  {
   "cell_type": "code",
   "execution_count": 68,
   "metadata": {},
   "outputs": [],
   "source": [
    "# group by day, store number, and family and aggregate number of sales and onpromotion to get the fraction of \n",
    "# items onpromotion each day at each store - I will use this fraction to extrapolate an onpromotion value \n",
    "# for the missing onpromotion data\n",
    "final_april14_mar152 = pd.DataFrame(final_april14_mar15.groupby(['year', 'month', 'day','store_nbr', 'family'])['onpromotion', 'unit_sales'].sum().reset_index())\n",
    "final_april14_mar152['frac_promo'] = final_april14_mar152['onpromotion'] / final_april14_mar152['unit_sales']"
   ]
  },
  {
   "cell_type": "code",
   "execution_count": 69,
   "metadata": {},
   "outputs": [],
   "source": [
    "# create dataframe with mean on promotion fraction for each store day and family\n",
    "final_april14_mar153 = pd.DataFrame(final_april14_mar152.groupby(['year', 'month','store_nbr', 'family'])['frac_promo'].mean().reset_index())"
   ]
  },
  {
   "cell_type": "code",
   "execution_count": 70,
   "metadata": {},
   "outputs": [],
   "source": [
    "# take the average fraction on promotion for each store per family per month\n",
    "fraction = pd.DataFrame(final_april14_mar153.groupby(['store_nbr','family', 'month'])['frac_promo'].mean().reset_index())"
   ]
  },
  {
   "cell_type": "code",
   "execution_count": 71,
   "metadata": {},
   "outputs": [],
   "source": [
    "# get daily unit sales of each store and family combination to add fraction on promotion to\n",
    "final_13_may14 = pd.DataFrame(final_13_may14.groupby(['date', 'store_nbr', 'family'])['unit_sales'].sum().reset_index())\n",
    "final_13_may14['month'] = final_13_may14['date'].dt.month"
   ]
  },
  {
   "cell_type": "code",
   "execution_count": 72,
   "metadata": {},
   "outputs": [],
   "source": [
    "# merge data missing onpromotion with extrapolated onpromotion fraction\n",
    "merged = pd.merge(final_13_may14, fraction, on= ['store_nbr','family', 'month'])\n",
    "merged['onpromotion'] = merged['unit_sales']* merged['frac_promo']"
   ]
  },
  {
   "cell_type": "code",
   "execution_count": 73,
   "metadata": {},
   "outputs": [
    {
     "data": {
      "text/html": [
       "<div>\n",
       "<style scoped>\n",
       "    .dataframe tbody tr th:only-of-type {\n",
       "        vertical-align: middle;\n",
       "    }\n",
       "\n",
       "    .dataframe tbody tr th {\n",
       "        vertical-align: top;\n",
       "    }\n",
       "\n",
       "    .dataframe thead th {\n",
       "        text-align: right;\n",
       "    }\n",
       "</style>\n",
       "<table border=\"1\" class=\"dataframe\">\n",
       "  <thead>\n",
       "    <tr style=\"text-align: right;\">\n",
       "      <th></th>\n",
       "      <th>date</th>\n",
       "      <th>store_nbr</th>\n",
       "      <th>family</th>\n",
       "      <th>unit_sales</th>\n",
       "      <th>onpromotion</th>\n",
       "    </tr>\n",
       "  </thead>\n",
       "  <tbody>\n",
       "    <tr>\n",
       "      <td>0</td>\n",
       "      <td>2013-01-02</td>\n",
       "      <td>37.0</td>\n",
       "      <td>BREAD/BAKERY</td>\n",
       "      <td>554.995</td>\n",
       "      <td>1.209495</td>\n",
       "    </tr>\n",
       "    <tr>\n",
       "      <td>1</td>\n",
       "      <td>2013-01-03</td>\n",
       "      <td>37.0</td>\n",
       "      <td>BREAD/BAKERY</td>\n",
       "      <td>507.820</td>\n",
       "      <td>1.106687</td>\n",
       "    </tr>\n",
       "    <tr>\n",
       "      <td>2</td>\n",
       "      <td>2013-01-04</td>\n",
       "      <td>37.0</td>\n",
       "      <td>BREAD/BAKERY</td>\n",
       "      <td>442.936</td>\n",
       "      <td>0.965286</td>\n",
       "    </tr>\n",
       "    <tr>\n",
       "      <td>3</td>\n",
       "      <td>2013-01-05</td>\n",
       "      <td>37.0</td>\n",
       "      <td>BREAD/BAKERY</td>\n",
       "      <td>544.995</td>\n",
       "      <td>1.187702</td>\n",
       "    </tr>\n",
       "    <tr>\n",
       "      <td>4</td>\n",
       "      <td>2013-01-06</td>\n",
       "      <td>37.0</td>\n",
       "      <td>BREAD/BAKERY</td>\n",
       "      <td>547.844</td>\n",
       "      <td>1.193911</td>\n",
       "    </tr>\n",
       "    <tr>\n",
       "      <td>...</td>\n",
       "      <td>...</td>\n",
       "      <td>...</td>\n",
       "      <td>...</td>\n",
       "      <td>...</td>\n",
       "      <td>...</td>\n",
       "    </tr>\n",
       "    <tr>\n",
       "      <td>19880</td>\n",
       "      <td>2014-02-24</td>\n",
       "      <td>51.0</td>\n",
       "      <td>PRODUCE</td>\n",
       "      <td>5.000</td>\n",
       "      <td>0.242424</td>\n",
       "    </tr>\n",
       "    <tr>\n",
       "      <td>19881</td>\n",
       "      <td>2014-02-25</td>\n",
       "      <td>51.0</td>\n",
       "      <td>PRODUCE</td>\n",
       "      <td>7.000</td>\n",
       "      <td>0.339394</td>\n",
       "    </tr>\n",
       "    <tr>\n",
       "      <td>19882</td>\n",
       "      <td>2014-02-26</td>\n",
       "      <td>51.0</td>\n",
       "      <td>PRODUCE</td>\n",
       "      <td>9.000</td>\n",
       "      <td>0.436364</td>\n",
       "    </tr>\n",
       "    <tr>\n",
       "      <td>19883</td>\n",
       "      <td>2014-02-27</td>\n",
       "      <td>51.0</td>\n",
       "      <td>PRODUCE</td>\n",
       "      <td>8.000</td>\n",
       "      <td>0.387879</td>\n",
       "    </tr>\n",
       "    <tr>\n",
       "      <td>19884</td>\n",
       "      <td>2014-02-28</td>\n",
       "      <td>51.0</td>\n",
       "      <td>PRODUCE</td>\n",
       "      <td>32.000</td>\n",
       "      <td>1.551515</td>\n",
       "    </tr>\n",
       "  </tbody>\n",
       "</table>\n",
       "<p>19885 rows × 5 columns</p>\n",
       "</div>"
      ],
      "text/plain": [
       "            date  store_nbr        family  unit_sales  onpromotion\n",
       "0     2013-01-02       37.0  BREAD/BAKERY     554.995     1.209495\n",
       "1     2013-01-03       37.0  BREAD/BAKERY     507.820     1.106687\n",
       "2     2013-01-04       37.0  BREAD/BAKERY     442.936     0.965286\n",
       "3     2013-01-05       37.0  BREAD/BAKERY     544.995     1.187702\n",
       "4     2013-01-06       37.0  BREAD/BAKERY     547.844     1.193911\n",
       "...          ...        ...           ...         ...          ...\n",
       "19880 2014-02-24       51.0       PRODUCE       5.000     0.242424\n",
       "19881 2014-02-25       51.0       PRODUCE       7.000     0.339394\n",
       "19882 2014-02-26       51.0       PRODUCE       9.000     0.436364\n",
       "19883 2014-02-27       51.0       PRODUCE       8.000     0.387879\n",
       "19884 2014-02-28       51.0       PRODUCE      32.000     1.551515\n",
       "\n",
       "[19885 rows x 5 columns]"
      ]
     },
     "execution_count": 73,
     "metadata": {},
     "output_type": "execute_result"
    }
   ],
   "source": [
    "# new dataset that has new values for average on promotion \n",
    "merged.drop(columns = ['month','frac_promo'], inplace=True)\n",
    "merged"
   ]
  },
  {
   "cell_type": "code",
   "execution_count": 74,
   "metadata": {},
   "outputs": [],
   "source": [
    "#separate out data from original final dataset that is missing onpromotion\n",
    "final_with_promo = final[final['onpromotion'].notnull()]\n",
    "missing_onpromo = final[final['onpromotion'].isna()]\n",
    "final_with_promo['onpromotion'] = np.where(final_with_promo['onpromotion'] == True, 1, 0)"
   ]
  },
  {
   "cell_type": "code",
   "execution_count": 75,
   "metadata": {},
   "outputs": [],
   "source": [
    "# create date, store, family grouped dataframe\n",
    "missing_onpromo2 = pd.DataFrame(missing_onpromo.groupby(['date','store_nbr', 'family','precipMM','avgtemp','holiday'])['unit_sales'].sum().reset_index())"
   ]
  },
  {
   "cell_type": "code",
   "execution_count": 76,
   "metadata": {},
   "outputs": [],
   "source": [
    "# merge missing promo data with data on promotion based on fraction\n",
    "missing_with_promo = pd.merge(missing_onpromo2, merged, on = ['date','store_nbr','family','unit_sales'], how = 'outer')"
   ]
  },
  {
   "cell_type": "code",
   "execution_count": 77,
   "metadata": {},
   "outputs": [],
   "source": [
    "# create date, store, family grouped dataframe\n",
    "final_with_promo2 = pd.DataFrame(final_with_promo.groupby(['date','store_nbr', 'family','precipMM','avgtemp','holiday'])['unit_sales','onpromotion'].sum().reset_index())"
   ]
  },
  {
   "cell_type": "code",
   "execution_count": 78,
   "metadata": {},
   "outputs": [],
   "source": [
    "# concat dataframes back to together\n",
    "final_new = pd.concat([final_with_promo2, missing_with_promo], axis = 0)"
   ]
  },
  {
   "cell_type": "code",
   "execution_count": 79,
   "metadata": {},
   "outputs": [
    {
     "data": {
      "text/plain": [
       "date           0.0\n",
       "store_nbr      0.0\n",
       "family         0.0\n",
       "precipMM       0.0\n",
       "avgtemp        0.0\n",
       "holiday        0.0\n",
       "unit_sales     0.0\n",
       "onpromotion    0.0\n",
       "dtype: float64"
      ]
     },
     "execution_count": 79,
     "metadata": {},
     "output_type": "execute_result"
    }
   ],
   "source": [
    "# check that all missing values are gone\n",
    "np.mean(final_new.isna(), axis = 0)"
   ]
  },
  {
   "cell_type": "code",
   "execution_count": 80,
   "metadata": {},
   "outputs": [
    {
     "name": "stdout",
     "output_type": "stream",
     "text": [
      "Duplicate Rows except first occurrence based on all columns are :\n",
      "Empty DataFrame\n",
      "Columns: [date, store_nbr, family, precipMM, avgtemp, holiday, unit_sales, onpromotion]\n",
      "Index: []\n"
     ]
    }
   ],
   "source": [
    "# Search if any duplicated rows\n",
    "duplicated = final_new[final_new.duplicated()]\n",
    "print(\"Duplicate Rows except first occurrence based on all columns are :\")\n",
    "print(duplicated)"
   ]
  },
  {
   "cell_type": "markdown",
   "metadata": {},
   "source": [
    "# EDA"
   ]
  },
  {
   "cell_type": "code",
   "execution_count": 81,
   "metadata": {
    "scrolled": true
   },
   "outputs": [
    {
     "data": {
      "text/plain": [
       "Text(0, 0.5, 'unit_sales')"
      ]
     },
     "execution_count": 81,
     "metadata": {},
     "output_type": "execute_result"
    },
    {
     "data": {
      "image/png": "[encoded data removed]",
      "text/plain": [
       "<Figure size 432x288 with 1 Axes>"
      ]
     },
     "metadata": {
      "needs_background": "light"
     },
     "output_type": "display_data"
    }
   ],
   "source": [
    "# How do sales vary by family?\n",
    "final_new.groupby('family')['unit_sales'].sum().plot(kind='bar').set_ylabel('unit_sales')"
   ]
  },
  {
   "cell_type": "markdown",
   "metadata": {},
   "source": [
    "Finding: Produce has the most sales followed by dairy, bread, poultry, meat, deli, eggs, prepared foods, and seafood."
   ]
  },
  {
   "cell_type": "code",
   "execution_count": 82,
   "metadata": {},
   "outputs": [
    {
     "data": {
      "text/plain": [
       "Text(0, 0.5, 'unit_sales')"
      ]
     },
     "execution_count": 82,
     "metadata": {},
     "output_type": "execute_result"
    },
    {
     "data": {
      "image/png": "[encoded data removed]",
      "text/plain": [
       "<Figure size 432x288 with 1 Axes>"
      ]
     },
     "metadata": {
      "needs_background": "light"
     },
     "output_type": "display_data"
    }
   ],
   "source": [
    "# How do total sales vary by store?\n",
    "final_new.groupby('store_nbr')['unit_sales'].sum().plot(kind='bar').set_ylabel('unit_sales')"
   ]
  },
  {
   "cell_type": "markdown",
   "metadata": {},
   "source": [
    "Finding: Store 44 has the most sales followed by store 51, store 50, store 37, and store 38."
   ]
  },
  {
   "cell_type": "code",
   "execution_count": 83,
   "metadata": {},
   "outputs": [
    {
     "name": "stdout",
     "output_type": "stream",
     "text": [
      "BREAD/BAKERY\n"
     ]
    },
    {
     "data": {
      "image/png": "[encoded data removed]",
      "text/plain": [
       "<Figure size 432x288 with 1 Axes>"
      ]
     },
     "metadata": {
      "needs_background": "light"
     },
     "output_type": "display_data"
    },
    {
     "name": "stdout",
     "output_type": "stream",
     "text": [
      "DAIRY\n"
     ]
    },
    {
     "data": {
      "image/png": "[encoded data removed]",
      "text/plain": [
       "<Figure size 432x288 with 1 Axes>"
      ]
     },
     "metadata": {
      "needs_background": "light"
     },
     "output_type": "display_data"
    },
    {
     "name": "stdout",
     "output_type": "stream",
     "text": [
      "DELI\n"
     ]
    },
    {
     "data": {
      "image/png": "[encoded data removed]",
      "text/plain": [
       "<Figure size 432x288 with 1 Axes>"
      ]
     },
     "metadata": {
      "needs_background": "light"
     },
     "output_type": "display_data"
    },
    {
     "name": "stdout",
     "output_type": "stream",
     "text": [
      "EGGS\n"
     ]
    },
    {
     "data": {
      "image/png": "[encoded data removed]",
      "text/plain": [
       "<Figure size 432x288 with 1 Axes>"
      ]
     },
     "metadata": {
      "needs_background": "light"
     },
     "output_type": "display_data"
    },
    {
     "name": "stdout",
     "output_type": "stream",
     "text": [
      "MEATS\n"
     ]
    },
    {
     "data": {
      "image/png": "[encoded data removed]",
      "text/plain": [
       "<Figure size 432x288 with 1 Axes>"
      ]
     },
     "metadata": {
      "needs_background": "light"
     },
     "output_type": "display_data"
    },
    {
     "name": "stdout",
     "output_type": "stream",
     "text": [
      "POULTRY\n"
     ]
    },
    {
     "data": {
      "image/png": "[encoded data removed]",
      "text/plain": [
       "<Figure size 432x288 with 1 Axes>"
      ]
     },
     "metadata": {
      "needs_background": "light"
     },
     "output_type": "display_data"
    },
    {
     "name": "stdout",
     "output_type": "stream",
     "text": [
      "PREPARED FOODS\n"
     ]
    },
    {
     "data": {
      "image/png": "[encoded data removed]",
      "text/plain": [
       "<Figure size 432x288 with 1 Axes>"
      ]
     },
     "metadata": {
      "needs_background": "light"
     },
     "output_type": "display_data"
    },
    {
     "name": "stdout",
     "output_type": "stream",
     "text": [
      "PRODUCE\n"
     ]
    },
    {
     "data": {
      "image/png": "[encoded data removed]",
      "text/plain": [
       "<Figure size 432x288 with 1 Axes>"
      ]
     },
     "metadata": {
      "needs_background": "light"
     },
     "output_type": "display_data"
    },
    {
     "name": "stdout",
     "output_type": "stream",
     "text": [
      "SEAFOOD\n"
     ]
    },
    {
     "data": {
      "image/png": "[encoded data removed]",
      "text/plain": [
       "<Figure size 432x288 with 1 Axes>"
      ]
     },
     "metadata": {
      "needs_background": "light"
     },
     "output_type": "display_data"
    }
   ],
   "source": [
    "# how do average sales of each family vary between stores?\n",
    "family = final_new['family'].unique()\n",
    "\n",
    "for product in family:\n",
    "    print(product)\n",
    "    data = final_new[final_new['family'] == product]\n",
    "    data.groupby(['store_nbr'])['unit_sales'].mean().plot(kind='bar').set_ylabel('unit_sales')\n",
    "    plt.show()"
   ]
  },
  {
   "cell_type": "markdown",
   "metadata": {},
   "source": [
    "Finding: Average sales of each family often varies between stores. Time series analysis separate for each store will make the most sense."
   ]
  },
  {
   "cell_type": "code",
   "execution_count": 84,
   "metadata": {
    "scrolled": true
   },
   "outputs": [
    {
     "data": {
      "text/plain": [
       "Text(0, 0.5, 'unit_sales')"
      ]
     },
     "execution_count": 84,
     "metadata": {},
     "output_type": "execute_result"
    },
    {
     "data": {
      "image/png": "[encoded data removed]",
      "text/plain": [
       "<Figure size 432x288 with 1 Axes>"
      ]
     },
     "metadata": {
      "needs_background": "light"
     },
     "output_type": "display_data"
    }
   ],
   "source": [
    "# how do average number of sales for each family compare to one another?\n",
    "final_new.groupby('family')['unit_sales'].mean().plot(kind='bar').set_ylabel('unit_sales')"
   ]
  },
  {
   "cell_type": "markdown",
   "metadata": {},
   "source": [
    "Finding: Average sales of each family is different compared to one another. Time series analysis separate for each product will make the most sense."
   ]
  },
  {
   "cell_type": "code",
   "execution_count": 85,
   "metadata": {},
   "outputs": [
    {
     "name": "stdout",
     "output_type": "stream",
     "text": [
      "BREAD/BAKERY\n"
     ]
    },
    {
     "data": {
      "image/png": "[encoded data removed]",
      "text/plain": [
       "<Figure size 432x288 with 1 Axes>"
      ]
     },
     "metadata": {
      "needs_background": "light"
     },
     "output_type": "display_data"
    },
    {
     "name": "stdout",
     "output_type": "stream",
     "text": [
      "DAIRY\n"
     ]
    },
    {
     "data": {
      "image/png": "[encoded data removed]",
      "text/plain": [
       "<Figure size 432x288 with 1 Axes>"
      ]
     },
     "metadata": {
      "needs_background": "light"
     },
     "output_type": "display_data"
    },
    {
     "name": "stdout",
     "output_type": "stream",
     "text": [
      "DELI\n"
     ]
    },
    {
     "data": {
      "image/png": "[encoded data removed]",
      "text/plain": [
       "<Figure size 432x288 with 1 Axes>"
      ]
     },
     "metadata": {
      "needs_background": "light"
     },
     "output_type": "display_data"
    },
    {
     "name": "stdout",
     "output_type": "stream",
     "text": [
      "EGGS\n"
     ]
    },
    {
     "data": {
      "image/png": "[encoded data removed]",
      "text/plain": [
       "<Figure size 432x288 with 1 Axes>"
      ]
     },
     "metadata": {
      "needs_background": "light"
     },
     "output_type": "display_data"
    },
    {
     "name": "stdout",
     "output_type": "stream",
     "text": [
      "MEATS\n"
     ]
    },
    {
     "data": {
      "image/png": "[encoded data removed]",
      "text/plain": [
       "<Figure size 432x288 with 1 Axes>"
      ]
     },
     "metadata": {
      "needs_background": "light"
     },
     "output_type": "display_data"
    },
    {
     "name": "stdout",
     "output_type": "stream",
     "text": [
      "POULTRY\n"
     ]
    },
    {
     "data": {
      "image/png": "[encoded data removed]",
      "text/plain": [
       "<Figure size 432x288 with 1 Axes>"
      ]
     },
     "metadata": {
      "needs_background": "light"
     },
     "output_type": "display_data"
    },
    {
     "name": "stdout",
     "output_type": "stream",
     "text": [
      "PREPARED FOODS\n"
     ]
    },
    {
     "data": {
      "image/png": "[encoded data removed]",
      "text/plain": [
       "<Figure size 432x288 with 1 Axes>"
      ]
     },
     "metadata": {
      "needs_background": "light"
     },
     "output_type": "display_data"
    },
    {
     "name": "stdout",
     "output_type": "stream",
     "text": [
      "PRODUCE\n"
     ]
    },
    {
     "data": {
      "image/png": "[encoded data removed]",
      "text/plain": [
       "<Figure size 432x288 with 1 Axes>"
      ]
     },
     "metadata": {
      "needs_background": "light"
     },
     "output_type": "display_data"
    },
    {
     "name": "stdout",
     "output_type": "stream",
     "text": [
      "SEAFOOD\n"
     ]
    },
    {
     "data": {
      "image/png": "[encoded data removed]",
      "text/plain": [
       "<Figure size 432x288 with 1 Axes>"
      ]
     },
     "metadata": {
      "needs_background": "light"
     },
     "output_type": "display_data"
    }
   ],
   "source": [
    "# Do holidays affect sales?\n",
    "for product in family:\n",
    "    print(product)\n",
    "    data = final_new[final_new['family'] == product]\n",
    "    data.groupby(['holiday'])['unit_sales'].mean().plot(kind='bar').set_ylabel('unit_sales')\n",
    "    plt.show()"
   ]
  },
  {
   "cell_type": "markdown",
   "metadata": {},
   "source": [
    "Finding: Sales of all products are higher on holidays"
   ]
  },
  {
   "cell_type": "code",
   "execution_count": 86,
   "metadata": {},
   "outputs": [
    {
     "name": "stdout",
     "output_type": "stream",
     "text": [
      "BREAD/BAKERY\n"
     ]
    },
    {
     "data": {
      "image/png": "[encoded data removed]",
      "text/plain": [
       "<Figure size 432x288 with 1 Axes>"
      ]
     },
     "metadata": {
      "needs_background": "light"
     },
     "output_type": "display_data"
    },
    {
     "name": "stdout",
     "output_type": "stream",
     "text": [
      "DAIRY\n"
     ]
    },
    {
     "data": {
      "image/png": "[encoded data removed]",
      "text/plain": [
       "<Figure size 432x288 with 1 Axes>"
      ]
     },
     "metadata": {
      "needs_background": "light"
     },
     "output_type": "display_data"
    },
    {
     "name": "stdout",
     "output_type": "stream",
     "text": [
      "DELI\n"
     ]
    },
    {
     "data": {
      "image/png": "[encoded data removed]",
      "text/plain": [
       "<Figure size 432x288 with 1 Axes>"
      ]
     },
     "metadata": {
      "needs_background": "light"
     },
     "output_type": "display_data"
    },
    {
     "name": "stdout",
     "output_type": "stream",
     "text": [
      "EGGS\n"
     ]
    },
    {
     "data": {
      "image/png": "[encoded data removed]",
      "text/plain": [
       "<Figure size 432x288 with 1 Axes>"
      ]
     },
     "metadata": {
      "needs_background": "light"
     },
     "output_type": "display_data"
    },
    {
     "name": "stdout",
     "output_type": "stream",
     "text": [
      "MEATS\n"
     ]
    },
    {
     "data": {
      "image/png": "[encoded data removed]",
      "text/plain": [
       "<Figure size 432x288 with 1 Axes>"
      ]
     },
     "metadata": {
      "needs_background": "light"
     },
     "output_type": "display_data"
    },
    {
     "name": "stdout",
     "output_type": "stream",
     "text": [
      "POULTRY\n"
     ]
    },
    {
     "data": {
      "image/png": "[encoded data removed]",
      "text/plain": [
       "<Figure size 432x288 with 1 Axes>"
      ]
     },
     "metadata": {
      "needs_background": "light"
     },
     "output_type": "display_data"
    },
    {
     "name": "stdout",
     "output_type": "stream",
     "text": [
      "PREPARED FOODS\n"
     ]
    },
    {
     "data": {
      "image/png": "[encoded data removed]",
      "text/plain": [
       "<Figure size 432x288 with 1 Axes>"
      ]
     },
     "metadata": {
      "needs_background": "light"
     },
     "output_type": "display_data"
    },
    {
     "name": "stdout",
     "output_type": "stream",
     "text": [
      "PRODUCE\n"
     ]
    },
    {
     "data": {
      "image/png": "[encoded data removed]",
      "text/plain": [
       "<Figure size 432x288 with 1 Axes>"
      ]
     },
     "metadata": {
      "needs_background": "light"
     },
     "output_type": "display_data"
    },
    {
     "name": "stdout",
     "output_type": "stream",
     "text": [
      "SEAFOOD\n"
     ]
    },
    {
     "data": {
      "image/png": "[encoded data removed]",
      "text/plain": [
       "<Figure size 432x288 with 1 Axes>"
      ]
     },
     "metadata": {
      "needs_background": "light"
     },
     "output_type": "display_data"
    }
   ],
   "source": [
    "# Does temperature affect sales?\n",
    "for product in family:\n",
    "    print(product)\n",
    "    data = final_new[final_new['family'] == product]\n",
    "    plt.figure()\n",
    "    plt.scatter(data['avgtemp'], data['unit_sales'])\n",
    "    plt.xlabel('Average Temperature in Celsius')\n",
    "    plt.ylabel('Unit Sales')\n",
    "    plt.show()"
   ]
  },
  {
   "cell_type": "markdown",
   "metadata": {},
   "source": [
    "Finding: it looks like sales may vary with temperature, with 2 peaks around 12 degrees celsius and 27 degrees celcius."
   ]
  },
  {
   "cell_type": "code",
   "execution_count": 87,
   "metadata": {},
   "outputs": [
    {
     "name": "stdout",
     "output_type": "stream",
     "text": [
      "BREAD/BAKERY\n"
     ]
    },
    {
     "data": {
      "image/png": "[encoded data removed]",
      "text/plain": [
       "<Figure size 432x288 with 1 Axes>"
      ]
     },
     "metadata": {
      "needs_background": "light"
     },
     "output_type": "display_data"
    },
    {
     "name": "stdout",
     "output_type": "stream",
     "text": [
      "DAIRY\n"
     ]
    },
    {
     "data": {
      "image/png": "[encoded data removed]",
      "text/plain": [
       "<Figure size 432x288 with 1 Axes>"
      ]
     },
     "metadata": {
      "needs_background": "light"
     },
     "output_type": "display_data"
    },
    {
     "name": "stdout",
     "output_type": "stream",
     "text": [
      "DELI\n"
     ]
    },
    {
     "data": {
      "image/png": "[encoded data removed]",
      "text/plain": [
       "<Figure size 432x288 with 1 Axes>"
      ]
     },
     "metadata": {
      "needs_background": "light"
     },
     "output_type": "display_data"
    },
    {
     "name": "stdout",
     "output_type": "stream",
     "text": [
      "EGGS\n"
     ]
    },
    {
     "data": {
      "image/png": "[encoded data removed]",
      "text/plain": [
       "<Figure size 432x288 with 1 Axes>"
      ]
     },
     "metadata": {
      "needs_background": "light"
     },
     "output_type": "display_data"
    },
    {
     "name": "stdout",
     "output_type": "stream",
     "text": [
      "MEATS\n"
     ]
    },
    {
     "data": {
      "image/png": "[encoded data removed]",
      "text/plain": [
       "<Figure size 432x288 with 1 Axes>"
      ]
     },
     "metadata": {
      "needs_background": "light"
     },
     "output_type": "display_data"
    },
    {
     "name": "stdout",
     "output_type": "stream",
     "text": [
      "POULTRY\n"
     ]
    },
    {
     "data": {
      "image/png": "[encoded data removed]",
      "text/plain": [
       "<Figure size 432x288 with 1 Axes>"
      ]
     },
     "metadata": {
      "needs_background": "light"
     },
     "output_type": "display_data"
    },
    {
     "name": "stdout",
     "output_type": "stream",
     "text": [
      "PREPARED FOODS\n"
     ]
    },
    {
     "data": {
      "image/png": "[encoded data removed]",
      "text/plain": [
       "<Figure size 432x288 with 1 Axes>"
      ]
     },
     "metadata": {
      "needs_background": "light"
     },
     "output_type": "display_data"
    },
    {
     "name": "stdout",
     "output_type": "stream",
     "text": [
      "PRODUCE\n"
     ]
    },
    {
     "data": {
      "image/png": "[encoded data removed]",
      "text/plain": [
       "<Figure size 432x288 with 1 Axes>"
      ]
     },
     "metadata": {
      "needs_background": "light"
     },
     "output_type": "display_data"
    },
    {
     "name": "stdout",
     "output_type": "stream",
     "text": [
      "SEAFOOD\n"
     ]
    },
    {
     "data": {
      "image/png": "[encoded data removed]",
      "text/plain": [
       "<Figure size 432x288 with 1 Axes>"
      ]
     },
     "metadata": {
      "needs_background": "light"
     },
     "output_type": "display_data"
    }
   ],
   "source": [
    "# Does rainfall affect sales?\n",
    "for product in family:\n",
    "    print(product)\n",
    "    data = final_new[final_new['family'] == product]\n",
    "    plt.figure()\n",
    "    plt.scatter(data['precipMM'], data['unit_sales'])\n",
    "    plt.xlabel('Precipitation (mm)')\n",
    "    plt.ylabel('Unit Sales')\n",
    "    plt.show()"
   ]
  },
  {
   "cell_type": "markdown",
   "metadata": {},
   "source": [
    "Finding: it looks like sales may be lower when there is more rainfall"
   ]
  },
  {
   "cell_type": "code",
   "execution_count": 88,
   "metadata": {
    "scrolled": false
   },
   "outputs": [
    {
     "name": "stdout",
     "output_type": "stream",
     "text": [
      "BREAD/BAKERY\n"
     ]
    },
    {
     "data": {
      "image/png": "[encoded data removed]",
      "text/plain": [
       "<Figure size 432x288 with 1 Axes>"
      ]
     },
     "metadata": {
      "needs_background": "light"
     },
     "output_type": "display_data"
    },
    {
     "name": "stdout",
     "output_type": "stream",
     "text": [
      "DAIRY\n"
     ]
    },
    {
     "data": {
      "image/png": "[encoded data removed]",
      "text/plain": [
       "<Figure size 432x288 with 1 Axes>"
      ]
     },
     "metadata": {
      "needs_background": "light"
     },
     "output_type": "display_data"
    },
    {
     "name": "stdout",
     "output_type": "stream",
     "text": [
      "DELI\n"
     ]
    },
    {
     "data": {
      "image/png": "[encoded data removed]",
      "text/plain": [
       "<Figure size 432x288 with 1 Axes>"
      ]
     },
     "metadata": {
      "needs_background": "light"
     },
     "output_type": "display_data"
    },
    {
     "name": "stdout",
     "output_type": "stream",
     "text": [
      "EGGS\n"
     ]
    },
    {
     "data": {
      "image/png": "[encoded data removed]",
      "text/plain": [
       "<Figure size 432x288 with 1 Axes>"
      ]
     },
     "metadata": {
      "needs_background": "light"
     },
     "output_type": "display_data"
    },
    {
     "name": "stdout",
     "output_type": "stream",
     "text": [
      "MEATS\n"
     ]
    },
    {
     "data": {
      "image/png": "[encoded data removed]",
      "text/plain": [
       "<Figure size 432x288 with 1 Axes>"
      ]
     },
     "metadata": {
      "needs_background": "light"
     },
     "output_type": "display_data"
    },
    {
     "name": "stdout",
     "output_type": "stream",
     "text": [
      "POULTRY\n"
     ]
    },
    {
     "data": {
      "image/png": "[encoded data removed]",
      "text/plain": [
       "<Figure size 432x288 with 1 Axes>"
      ]
     },
     "metadata": {
      "needs_background": "light"
     },
     "output_type": "display_data"
    },
    {
     "name": "stdout",
     "output_type": "stream",
     "text": [
      "PREPARED FOODS\n"
     ]
    },
    {
     "data": {
      "image/png": "[encoded data removed]",
      "text/plain": [
       "<Figure size 432x288 with 1 Axes>"
      ]
     },
     "metadata": {
      "needs_background": "light"
     },
     "output_type": "display_data"
    },
    {
     "name": "stdout",
     "output_type": "stream",
     "text": [
      "PRODUCE\n"
     ]
    },
    {
     "data": {
      "image/png": "[encoded data removed]",
      "text/plain": [
       "<Figure size 432x288 with 1 Axes>"
      ]
     },
     "metadata": {
      "needs_background": "light"
     },
     "output_type": "display_data"
    },
    {
     "name": "stdout",
     "output_type": "stream",
     "text": [
      "SEAFOOD\n"
     ]
    },
    {
     "data": {
      "image/png": "[encoded data removed]",
      "text/plain": [
       "<Figure size 432x288 with 1 Axes>"
      ]
     },
     "metadata": {
      "needs_background": "light"
     },
     "output_type": "display_data"
    }
   ],
   "source": [
    "# Do promotions affect sales?\n",
    "for product in family:\n",
    "    print(product)\n",
    "    data = final_new[final_new['family'] == product]\n",
    "    plt.figure()\n",
    "    plt.scatter(data['onpromotion'], data['unit_sales'])\n",
    "    plt.xlabel('Total Number of Items on Promotions')\n",
    "    plt.ylabel('Unit Sales')\n",
    "    plt.show()"
   ]
  },
  {
   "cell_type": "markdown",
   "metadata": {},
   "source": [
    "Finding: there is not a clear pattern for how promotions affect sales"
   ]
  }
 ],
 "metadata": {
  "kernelspec": {
   "display_name": "Python 3",
   "language": "python",
   "name": "python3"
  },
  "language_info": {
   "codemirror_mode": {
    "name": "ipython",
    "version": 3
   },
   "file_extension": ".py",
   "mimetype": "text/x-python",
   "name": "python",
   "nbconvert_exporter": "python",
   "pygments_lexer": "ipython3",
   "version": "3.7.4"
  }
 },
 "nbformat": 4,
 "nbformat_minor": 2
}
